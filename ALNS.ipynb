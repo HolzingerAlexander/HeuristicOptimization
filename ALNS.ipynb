{
 "cells": [
  {
   "cell_type": "code",
   "execution_count": 6,
   "metadata": {},
   "outputs": [],
   "source": [
    "import numpy as np\n",
    "import pandas as pd\n",
    "import time\n",
    "import sys\n",
    "import random\n",
    "from helper_functions_assignment2 import*"
   ]
  },
  {
   "cell_type": "code",
   "execution_count": 7,
   "metadata": {},
   "outputs": [],
   "source": [
    "#problem_instance = \"inst_tuning\\heur040_n_300_m_13358\"\n",
    "instance_type = \"test_instances/\" #\"inst_competition/\" #\"inst_tuning/\" # \n",
    "#problem_instance = \"heur002_n_100_m_3274\" #\"heur002_n_100_m_3274\" #\"heur040_n_300_m_13358\"\n",
    "problem_instance = \"heur001_n_10_m_31\" \n",
    "path = \"data/\"+instance_type + problem_instance +\".txt\""
   ]
  },
  {
   "cell_type": "code",
   "execution_count": 8,
   "metadata": {},
   "outputs": [
    {
     "name": "stdout",
     "output_type": "stream",
     "text": [
      "1\n",
      "10\n",
      "31\n"
     ]
    }
   ],
   "source": [
    "node_impact_orig, node_degree_orig, plex_assignment, edges_n1, edges_n2, edge_weights, edge_assignment_orig, s, n, m = create_problem_instance(path)\n",
    "print(s)\n",
    "print(n)\n",
    "print(m)"
   ]
  },
  {
   "cell_type": "code",
   "execution_count": 9,
   "metadata": {},
   "outputs": [
    {
     "ename": "ValueError",
     "evalue": "kth(=1) out of bounds (1)",
     "output_type": "error",
     "traceback": [
      "\u001b[1;31m---------------------------------------------------------------------------\u001b[0m",
      "\u001b[1;31mValueError\u001b[0m                                Traceback (most recent call last)",
      "Cell \u001b[1;32mIn[9], line 2\u001b[0m\n\u001b[0;32m      1\u001b[0m plex_assignment \u001b[38;5;241m=\u001b[39m np\u001b[38;5;241m.\u001b[39mrandom\u001b[38;5;241m.\u001b[39mchoice(\u001b[38;5;241m3\u001b[39m, n) \u001b[38;5;66;03m#np.range(n) of size n (second is the size)\u001b[39;00m\n\u001b[1;32m----> 2\u001b[0m solution \u001b[38;5;241m=\u001b[39m \u001b[43massignment_to_solution\u001b[49m\u001b[43m(\u001b[49m\u001b[43mplex_assignment\u001b[49m\u001b[43m,\u001b[49m\u001b[43m \u001b[49m\u001b[43mnode_impact_orig\u001b[49m\u001b[43m,\u001b[49m\u001b[43m \u001b[49m\n\u001b[0;32m      3\u001b[0m \u001b[43m                                    \u001b[49m\u001b[43mnode_degree_orig\u001b[49m\u001b[43m,\u001b[49m\u001b[43m \u001b[49m\u001b[43medge_weights\u001b[49m\u001b[43m,\u001b[49m\u001b[43m \u001b[49m\u001b[43medge_assignment_orig\u001b[49m\u001b[43m,\u001b[49m\u001b[43m \u001b[49m\u001b[43ms\u001b[49m\u001b[43m)\u001b[49m\n\u001b[0;32m      5\u001b[0m old \u001b[38;5;241m=\u001b[39m solution\u001b[38;5;241m.\u001b[39medge_assignment\n\u001b[0;32m      7\u001b[0m \u001b[38;5;28mprint\u001b[39m(np\u001b[38;5;241m.\u001b[39mwhere(old \u001b[38;5;241m==\u001b[39m \u001b[38;5;241m0\u001b[39m))\n",
      "File \u001b[1;32mc:\\Users\\alexa\\OneDrive\\Dokumente\\Heuristic Optimization\\HeuristicOptimization\\helper_functions_assignment2.py:200\u001b[0m, in \u001b[0;36massignment_to_solution\u001b[1;34m(plex_assignment, node_impact_orig, node_degree_orig, edge_weights, edge_assignment_orig, s)\u001b[0m\n\u001b[0;32m    197\u001b[0m node_degree \u001b[38;5;241m=\u001b[39m node_degree_orig\u001b[38;5;241m.\u001b[39mcopy()\n\u001b[0;32m    198\u001b[0m edge_assignment \u001b[38;5;241m=\u001b[39m edge_assignment_orig\u001b[38;5;241m.\u001b[39mcopy()\n\u001b[1;32m--> 200\u001b[0m \u001b[43mrepair_solution\u001b[49m\u001b[43m(\u001b[49m\u001b[43mnode_impact\u001b[49m\u001b[43m,\u001b[49m\u001b[43m \u001b[49m\u001b[43mnode_degree\u001b[49m\u001b[43m,\u001b[49m\u001b[43m \u001b[49m\u001b[43mplex_assignment\u001b[49m\u001b[43m,\u001b[49m\u001b[43m \u001b[49m\u001b[43medge_weights\u001b[49m\u001b[43m,\u001b[49m\u001b[43m \u001b[49m\u001b[43medge_assignment\u001b[49m\u001b[43m,\u001b[49m\u001b[43m \u001b[49m\u001b[43ms\u001b[49m\u001b[43m)\u001b[49m\n\u001b[0;32m    201\u001b[0m score \u001b[38;5;241m=\u001b[39m \u001b[38;5;28msum\u001b[39m(node_impact)\u001b[38;5;241m/\u001b[39m\u001b[38;5;241m2\u001b[39m\n\u001b[0;32m    202\u001b[0m fitness \u001b[38;5;241m=\u001b[39m \u001b[38;5;28msum\u001b[39m(\u001b[38;5;28mabs\u001b[39m(edge_weights))\u001b[38;5;241m-\u001b[39mscore\n",
      "File \u001b[1;32mc:\\Users\\alexa\\OneDrive\\Dokumente\\Heuristic Optimization\\HeuristicOptimization\\helper_functions_assignment2.py:165\u001b[0m, in \u001b[0;36mrepair_solution\u001b[1;34m(node_impact, node_degree, plex_assignment, edge_weights, edge_assignment, s)\u001b[0m\n\u001b[0;32m    163\u001b[0m valid_plex \u001b[38;5;241m=\u001b[39m is_splex(node_degree, plex_assignment, plex_number \u001b[38;5;241m=\u001b[39m plex, s\u001b[38;5;241m=\u001b[39ms)\n\u001b[0;32m    164\u001b[0m \u001b[38;5;28;01mif\u001b[39;00m \u001b[38;5;129;01mnot\u001b[39;00m \u001b[38;5;28misinstance\u001b[39m(valid_plex, (\u001b[38;5;28mbool\u001b[39m)):\n\u001b[1;32m--> 165\u001b[0m     \u001b[43mrepair_splex\u001b[49m\u001b[43m(\u001b[49m\u001b[43mnode_impact\u001b[49m\u001b[43m,\u001b[49m\u001b[43m \u001b[49m\u001b[43mnode_degree\u001b[49m\u001b[43m,\u001b[49m\u001b[43m \u001b[49m\u001b[43mplex_assignment\u001b[49m\u001b[43m,\u001b[49m\u001b[43m \u001b[49m\n\u001b[0;32m    166\u001b[0m \u001b[43m                 \u001b[49m\u001b[43medge_weights\u001b[49m\u001b[43m,\u001b[49m\u001b[43m \u001b[49m\u001b[43medge_assignment\u001b[49m\u001b[43m,\u001b[49m\u001b[43m \u001b[49m\u001b[43mplex_number\u001b[49m\u001b[38;5;241;43m=\u001b[39;49m\u001b[43mplex\u001b[49m\u001b[43m,\u001b[49m\u001b[43m \u001b[49m\u001b[43ms\u001b[49m\u001b[38;5;241;43m=\u001b[39;49m\u001b[43ms\u001b[49m\u001b[43m,\u001b[49m\u001b[43m \u001b[49m\u001b[43mproblem_nodes\u001b[49m\u001b[38;5;241;43m=\u001b[39;49m\u001b[43mvalid_plex\u001b[49m\u001b[43m)\u001b[49m\n",
      "File \u001b[1;32mc:\\Users\\alexa\\OneDrive\\Dokumente\\Heuristic Optimization\\HeuristicOptimization\\helper_functions_assignment2.py:136\u001b[0m, in \u001b[0;36mrepair_splex\u001b[1;34m(node_impact, node_degree, plex_assignment, edge_weights, edge_assignment, plex_number, s, problem_nodes)\u001b[0m\n\u001b[0;32m    131\u001b[0m potential_neighbor_nodes \u001b[38;5;241m=\u001b[39m potential_neighbor_nodes[edge_assignment[edge_index_tmp]\u001b[38;5;241m==\u001b[39m\u001b[38;5;241m0\u001b[39m]\n\u001b[0;32m    133\u001b[0m \u001b[38;5;66;03m### get the cheapes edges ###\u001b[39;00m\n\u001b[0;32m    134\u001b[0m \u001b[38;5;66;03m# i.e. from all potential edges (of which we have edge_index), get the ones with smallest weight\u001b[39;00m\n\u001b[0;32m    135\u001b[0m \u001b[38;5;66;03m# apparently the fastest way is argpartition https://stackoverflow.com/questions/34226400/find-the-index-of-the-k-smallest-values-of-a-numpy-array\u001b[39;00m\n\u001b[1;32m--> 136\u001b[0m order_of_cheapest_edges \u001b[38;5;241m=\u001b[39m \u001b[43mnp\u001b[49m\u001b[38;5;241;43m.\u001b[39;49m\u001b[43margpartition\u001b[49m\u001b[43m(\u001b[49m\u001b[43medge_weights\u001b[49m\u001b[43m[\u001b[49m\u001b[43medge_index\u001b[49m\u001b[43m]\u001b[49m\u001b[43m,\u001b[49m\u001b[43m \u001b[49m\u001b[43medges_needed\u001b[49m\u001b[43m)\u001b[49m\n\u001b[0;32m    137\u001b[0m \u001b[38;5;66;03m# these are the indices of the cheapest edges from our current node to another one within the plex (and the nodes)\u001b[39;00m\n\u001b[0;32m    138\u001b[0m cheapest_edges_index \u001b[38;5;241m=\u001b[39m edge_index[order_of_cheapest_edges[:edges_needed]]\n",
      "File \u001b[1;32m~\\AppData\\Local\\Packages\\PythonSoftwareFoundation.Python.3.11_qbz5n2kfra8p0\\LocalCache\\local-packages\\Python311\\site-packages\\numpy\\core\\fromnumeric.py:858\u001b[0m, in \u001b[0;36margpartition\u001b[1;34m(a, kth, axis, kind, order)\u001b[0m\n\u001b[0;32m    779\u001b[0m \u001b[38;5;129m@array_function_dispatch\u001b[39m(_argpartition_dispatcher)\n\u001b[0;32m    780\u001b[0m \u001b[38;5;28;01mdef\u001b[39;00m \u001b[38;5;21margpartition\u001b[39m(a, kth, axis\u001b[38;5;241m=\u001b[39m\u001b[38;5;241m-\u001b[39m\u001b[38;5;241m1\u001b[39m, kind\u001b[38;5;241m=\u001b[39m\u001b[38;5;124m'\u001b[39m\u001b[38;5;124mintroselect\u001b[39m\u001b[38;5;124m'\u001b[39m, order\u001b[38;5;241m=\u001b[39m\u001b[38;5;28;01mNone\u001b[39;00m):\n\u001b[0;32m    781\u001b[0m \u001b[38;5;250m    \u001b[39m\u001b[38;5;124;03m\"\"\"\u001b[39;00m\n\u001b[0;32m    782\u001b[0m \u001b[38;5;124;03m    Perform an indirect partition along the given axis using the\u001b[39;00m\n\u001b[0;32m    783\u001b[0m \u001b[38;5;124;03m    algorithm specified by the `kind` keyword. It returns an array of\u001b[39;00m\n\u001b[1;32m   (...)\u001b[0m\n\u001b[0;32m    856\u001b[0m \n\u001b[0;32m    857\u001b[0m \u001b[38;5;124;03m    \"\"\"\u001b[39;00m\n\u001b[1;32m--> 858\u001b[0m     \u001b[38;5;28;01mreturn\u001b[39;00m \u001b[43m_wrapfunc\u001b[49m\u001b[43m(\u001b[49m\u001b[43ma\u001b[49m\u001b[43m,\u001b[49m\u001b[43m \u001b[49m\u001b[38;5;124;43m'\u001b[39;49m\u001b[38;5;124;43margpartition\u001b[39;49m\u001b[38;5;124;43m'\u001b[39;49m\u001b[43m,\u001b[49m\u001b[43m \u001b[49m\u001b[43mkth\u001b[49m\u001b[43m,\u001b[49m\u001b[43m \u001b[49m\u001b[43maxis\u001b[49m\u001b[38;5;241;43m=\u001b[39;49m\u001b[43maxis\u001b[49m\u001b[43m,\u001b[49m\u001b[43m \u001b[49m\u001b[43mkind\u001b[49m\u001b[38;5;241;43m=\u001b[39;49m\u001b[43mkind\u001b[49m\u001b[43m,\u001b[49m\u001b[43m \u001b[49m\u001b[43morder\u001b[49m\u001b[38;5;241;43m=\u001b[39;49m\u001b[43morder\u001b[49m\u001b[43m)\u001b[49m\n",
      "File \u001b[1;32m~\\AppData\\Local\\Packages\\PythonSoftwareFoundation.Python.3.11_qbz5n2kfra8p0\\LocalCache\\local-packages\\Python311\\site-packages\\numpy\\core\\fromnumeric.py:59\u001b[0m, in \u001b[0;36m_wrapfunc\u001b[1;34m(obj, method, *args, **kwds)\u001b[0m\n\u001b[0;32m     56\u001b[0m     \u001b[38;5;28;01mreturn\u001b[39;00m _wrapit(obj, method, \u001b[38;5;241m*\u001b[39margs, \u001b[38;5;241m*\u001b[39m\u001b[38;5;241m*\u001b[39mkwds)\n\u001b[0;32m     58\u001b[0m \u001b[38;5;28;01mtry\u001b[39;00m:\n\u001b[1;32m---> 59\u001b[0m     \u001b[38;5;28;01mreturn\u001b[39;00m \u001b[43mbound\u001b[49m\u001b[43m(\u001b[49m\u001b[38;5;241;43m*\u001b[39;49m\u001b[43margs\u001b[49m\u001b[43m,\u001b[49m\u001b[43m \u001b[49m\u001b[38;5;241;43m*\u001b[39;49m\u001b[38;5;241;43m*\u001b[39;49m\u001b[43mkwds\u001b[49m\u001b[43m)\u001b[49m\n\u001b[0;32m     60\u001b[0m \u001b[38;5;28;01mexcept\u001b[39;00m \u001b[38;5;167;01mTypeError\u001b[39;00m:\n\u001b[0;32m     61\u001b[0m     \u001b[38;5;66;03m# A TypeError occurs if the object does have such a method in its\u001b[39;00m\n\u001b[0;32m     62\u001b[0m     \u001b[38;5;66;03m# class, but its signature is not identical to that of NumPy's. This\u001b[39;00m\n\u001b[1;32m   (...)\u001b[0m\n\u001b[0;32m     66\u001b[0m     \u001b[38;5;66;03m# Call _wrapit from within the except clause to ensure a potential\u001b[39;00m\n\u001b[0;32m     67\u001b[0m     \u001b[38;5;66;03m# exception has a traceback chain.\u001b[39;00m\n\u001b[0;32m     68\u001b[0m     \u001b[38;5;28;01mreturn\u001b[39;00m _wrapit(obj, method, \u001b[38;5;241m*\u001b[39margs, \u001b[38;5;241m*\u001b[39m\u001b[38;5;241m*\u001b[39mkwds)\n",
      "\u001b[1;31mValueError\u001b[0m: kth(=1) out of bounds (1)"
     ]
    }
   ],
   "source": [
    "plex_assignment = np.random.choice(3, n) #np.range(n) of size n (second is the size)\n",
    "solution = assignment_to_solution(plex_assignment, node_impact_orig, \n",
    "                                    node_degree_orig, edge_weights, edge_assignment_orig, s)\n",
    "\n",
    "old = solution.edge_assignment\n",
    "\n",
    "print(np.where(old == 0))\n",
    "\n",
    "plex_assignment, edge_assignment, removed = remove_random_node(plex_assignment, solution.edge_assignment, n, node_impact_orig, node_degree_orig, edge_weights)\n",
    "\n",
    "with np.printoptions(threshold=np.inf):\n",
    "    print(removed)\n",
    "    print(np.where(edge_assignment == 0))"
   ]
  },
  {
   "cell_type": "code",
   "execution_count": 15,
   "metadata": {},
   "outputs": [
    {
     "ename": "ValueError",
     "evalue": "kth(=3) out of bounds (3)",
     "output_type": "error",
     "traceback": [
      "\u001b[1;31m---------------------------------------------------------------------------\u001b[0m",
      "\u001b[1;31mValueError\u001b[0m                                Traceback (most recent call last)",
      "Cell \u001b[1;32mIn[15], line 24\u001b[0m\n\u001b[0;32m     22\u001b[0m node_impact, node_degree, plex_assignment, edges_n1, edges_n2, edge_weights, edge_assignment_orig, s, n, m \u001b[38;5;241m=\u001b[39m create_problem_instance(path)\n\u001b[0;32m     23\u001b[0m plex_assignment \u001b[38;5;241m=\u001b[39m np\u001b[38;5;241m.\u001b[39mrandom\u001b[38;5;241m.\u001b[39mchoice(\u001b[38;5;241m1\u001b[39m, n) \u001b[38;5;66;03m#np.range(n) of size n (second is the size)\u001b[39;00m\n\u001b[1;32m---> 24\u001b[0m solution \u001b[38;5;241m=\u001b[39m \u001b[43massignment_to_solution\u001b[49m\u001b[43m(\u001b[49m\u001b[43mplex_assignment\u001b[49m\u001b[43m,\u001b[49m\u001b[43m \u001b[49m\u001b[43mnode_impact\u001b[49m\u001b[43m,\u001b[49m\u001b[43m \u001b[49m\n\u001b[0;32m     25\u001b[0m \u001b[43m                                    \u001b[49m\u001b[43mnode_degree\u001b[49m\u001b[43m,\u001b[49m\u001b[43m \u001b[49m\u001b[43medge_weights\u001b[49m\u001b[43m,\u001b[49m\u001b[43m \u001b[49m\u001b[43medge_assignment_orig\u001b[49m\u001b[43m,\u001b[49m\u001b[43m \u001b[49m\u001b[43ms\u001b[49m\u001b[43m)\u001b[49m\n\u001b[0;32m     27\u001b[0m T \u001b[38;5;241m=\u001b[39m T_init\n\u001b[0;32m     28\u001b[0m edge_assignment \u001b[38;5;241m=\u001b[39m solution\u001b[38;5;241m.\u001b[39medge_assignment\n",
      "File \u001b[1;32mc:\\Users\\alexa\\OneDrive\\Dokumente\\Heuristic Optimization\\HeuristicOptimization\\helper_functions_assignment2.py:200\u001b[0m, in \u001b[0;36massignment_to_solution\u001b[1;34m(plex_assignment, node_impact_orig, node_degree_orig, edge_weights, edge_assignment_orig, s)\u001b[0m\n\u001b[0;32m    197\u001b[0m node_degree \u001b[38;5;241m=\u001b[39m node_degree_orig\u001b[38;5;241m.\u001b[39mcopy()\n\u001b[0;32m    198\u001b[0m edge_assignment \u001b[38;5;241m=\u001b[39m edge_assignment_orig\u001b[38;5;241m.\u001b[39mcopy()\n\u001b[1;32m--> 200\u001b[0m \u001b[43mrepair_solution\u001b[49m\u001b[43m(\u001b[49m\u001b[43mnode_impact\u001b[49m\u001b[43m,\u001b[49m\u001b[43m \u001b[49m\u001b[43mnode_degree\u001b[49m\u001b[43m,\u001b[49m\u001b[43m \u001b[49m\u001b[43mplex_assignment\u001b[49m\u001b[43m,\u001b[49m\u001b[43m \u001b[49m\u001b[43medge_weights\u001b[49m\u001b[43m,\u001b[49m\u001b[43m \u001b[49m\u001b[43medge_assignment\u001b[49m\u001b[43m,\u001b[49m\u001b[43m \u001b[49m\u001b[43ms\u001b[49m\u001b[43m)\u001b[49m\n\u001b[0;32m    201\u001b[0m score \u001b[38;5;241m=\u001b[39m \u001b[38;5;28msum\u001b[39m(node_impact)\u001b[38;5;241m/\u001b[39m\u001b[38;5;241m2\u001b[39m\n\u001b[0;32m    202\u001b[0m fitness \u001b[38;5;241m=\u001b[39m \u001b[38;5;28msum\u001b[39m(\u001b[38;5;28mabs\u001b[39m(edge_weights))\u001b[38;5;241m-\u001b[39mscore\n",
      "File \u001b[1;32mc:\\Users\\alexa\\OneDrive\\Dokumente\\Heuristic Optimization\\HeuristicOptimization\\helper_functions_assignment2.py:165\u001b[0m, in \u001b[0;36mrepair_solution\u001b[1;34m(node_impact, node_degree, plex_assignment, edge_weights, edge_assignment, s)\u001b[0m\n\u001b[0;32m    163\u001b[0m valid_plex \u001b[38;5;241m=\u001b[39m is_splex(node_degree, plex_assignment, plex_number \u001b[38;5;241m=\u001b[39m plex, s\u001b[38;5;241m=\u001b[39ms)\n\u001b[0;32m    164\u001b[0m \u001b[38;5;28;01mif\u001b[39;00m \u001b[38;5;129;01mnot\u001b[39;00m \u001b[38;5;28misinstance\u001b[39m(valid_plex, (\u001b[38;5;28mbool\u001b[39m)):\n\u001b[1;32m--> 165\u001b[0m     \u001b[43mrepair_splex\u001b[49m\u001b[43m(\u001b[49m\u001b[43mnode_impact\u001b[49m\u001b[43m,\u001b[49m\u001b[43m \u001b[49m\u001b[43mnode_degree\u001b[49m\u001b[43m,\u001b[49m\u001b[43m \u001b[49m\u001b[43mplex_assignment\u001b[49m\u001b[43m,\u001b[49m\u001b[43m \u001b[49m\n\u001b[0;32m    166\u001b[0m \u001b[43m                 \u001b[49m\u001b[43medge_weights\u001b[49m\u001b[43m,\u001b[49m\u001b[43m \u001b[49m\u001b[43medge_assignment\u001b[49m\u001b[43m,\u001b[49m\u001b[43m \u001b[49m\u001b[43mplex_number\u001b[49m\u001b[38;5;241;43m=\u001b[39;49m\u001b[43mplex\u001b[49m\u001b[43m,\u001b[49m\u001b[43m \u001b[49m\u001b[43ms\u001b[49m\u001b[38;5;241;43m=\u001b[39;49m\u001b[43ms\u001b[49m\u001b[43m,\u001b[49m\u001b[43m \u001b[49m\u001b[43mproblem_nodes\u001b[49m\u001b[38;5;241;43m=\u001b[39;49m\u001b[43mvalid_plex\u001b[49m\u001b[43m)\u001b[49m\n",
      "File \u001b[1;32mc:\\Users\\alexa\\OneDrive\\Dokumente\\Heuristic Optimization\\HeuristicOptimization\\helper_functions_assignment2.py:136\u001b[0m, in \u001b[0;36mrepair_splex\u001b[1;34m(node_impact, node_degree, plex_assignment, edge_weights, edge_assignment, plex_number, s, problem_nodes)\u001b[0m\n\u001b[0;32m    131\u001b[0m potential_neighbor_nodes \u001b[38;5;241m=\u001b[39m potential_neighbor_nodes[edge_assignment[edge_index_tmp]\u001b[38;5;241m==\u001b[39m\u001b[38;5;241m0\u001b[39m]\n\u001b[0;32m    133\u001b[0m \u001b[38;5;66;03m### get the cheapes edges ###\u001b[39;00m\n\u001b[0;32m    134\u001b[0m \u001b[38;5;66;03m# i.e. from all potential edges (of which we have edge_index), get the ones with smallest weight\u001b[39;00m\n\u001b[0;32m    135\u001b[0m \u001b[38;5;66;03m# apparently the fastest way is argpartition https://stackoverflow.com/questions/34226400/find-the-index-of-the-k-smallest-values-of-a-numpy-array\u001b[39;00m\n\u001b[1;32m--> 136\u001b[0m order_of_cheapest_edges \u001b[38;5;241m=\u001b[39m \u001b[43mnp\u001b[49m\u001b[38;5;241;43m.\u001b[39;49m\u001b[43margpartition\u001b[49m\u001b[43m(\u001b[49m\u001b[43medge_weights\u001b[49m\u001b[43m[\u001b[49m\u001b[43medge_index\u001b[49m\u001b[43m]\u001b[49m\u001b[43m,\u001b[49m\u001b[43m \u001b[49m\u001b[43medges_needed\u001b[49m\u001b[43m)\u001b[49m\n\u001b[0;32m    137\u001b[0m \u001b[38;5;66;03m# these are the indices of the cheapest edges from our current node to another one within the plex (and the nodes)\u001b[39;00m\n\u001b[0;32m    138\u001b[0m cheapest_edges_index \u001b[38;5;241m=\u001b[39m edge_index[order_of_cheapest_edges[:edges_needed]]\n",
      "File \u001b[1;32m~\\AppData\\Local\\Packages\\PythonSoftwareFoundation.Python.3.11_qbz5n2kfra8p0\\LocalCache\\local-packages\\Python311\\site-packages\\numpy\\core\\fromnumeric.py:858\u001b[0m, in \u001b[0;36margpartition\u001b[1;34m(a, kth, axis, kind, order)\u001b[0m\n\u001b[0;32m    779\u001b[0m \u001b[38;5;129m@array_function_dispatch\u001b[39m(_argpartition_dispatcher)\n\u001b[0;32m    780\u001b[0m \u001b[38;5;28;01mdef\u001b[39;00m \u001b[38;5;21margpartition\u001b[39m(a, kth, axis\u001b[38;5;241m=\u001b[39m\u001b[38;5;241m-\u001b[39m\u001b[38;5;241m1\u001b[39m, kind\u001b[38;5;241m=\u001b[39m\u001b[38;5;124m'\u001b[39m\u001b[38;5;124mintroselect\u001b[39m\u001b[38;5;124m'\u001b[39m, order\u001b[38;5;241m=\u001b[39m\u001b[38;5;28;01mNone\u001b[39;00m):\n\u001b[0;32m    781\u001b[0m \u001b[38;5;250m    \u001b[39m\u001b[38;5;124;03m\"\"\"\u001b[39;00m\n\u001b[0;32m    782\u001b[0m \u001b[38;5;124;03m    Perform an indirect partition along the given axis using the\u001b[39;00m\n\u001b[0;32m    783\u001b[0m \u001b[38;5;124;03m    algorithm specified by the `kind` keyword. It returns an array of\u001b[39;00m\n\u001b[1;32m   (...)\u001b[0m\n\u001b[0;32m    856\u001b[0m \n\u001b[0;32m    857\u001b[0m \u001b[38;5;124;03m    \"\"\"\u001b[39;00m\n\u001b[1;32m--> 858\u001b[0m     \u001b[38;5;28;01mreturn\u001b[39;00m \u001b[43m_wrapfunc\u001b[49m\u001b[43m(\u001b[49m\u001b[43ma\u001b[49m\u001b[43m,\u001b[49m\u001b[43m \u001b[49m\u001b[38;5;124;43m'\u001b[39;49m\u001b[38;5;124;43margpartition\u001b[39;49m\u001b[38;5;124;43m'\u001b[39;49m\u001b[43m,\u001b[49m\u001b[43m \u001b[49m\u001b[43mkth\u001b[49m\u001b[43m,\u001b[49m\u001b[43m \u001b[49m\u001b[43maxis\u001b[49m\u001b[38;5;241;43m=\u001b[39;49m\u001b[43maxis\u001b[49m\u001b[43m,\u001b[49m\u001b[43m \u001b[49m\u001b[43mkind\u001b[49m\u001b[38;5;241;43m=\u001b[39;49m\u001b[43mkind\u001b[49m\u001b[43m,\u001b[49m\u001b[43m \u001b[49m\u001b[43morder\u001b[49m\u001b[38;5;241;43m=\u001b[39;49m\u001b[43morder\u001b[49m\u001b[43m)\u001b[49m\n",
      "File \u001b[1;32m~\\AppData\\Local\\Packages\\PythonSoftwareFoundation.Python.3.11_qbz5n2kfra8p0\\LocalCache\\local-packages\\Python311\\site-packages\\numpy\\core\\fromnumeric.py:59\u001b[0m, in \u001b[0;36m_wrapfunc\u001b[1;34m(obj, method, *args, **kwds)\u001b[0m\n\u001b[0;32m     56\u001b[0m     \u001b[38;5;28;01mreturn\u001b[39;00m _wrapit(obj, method, \u001b[38;5;241m*\u001b[39margs, \u001b[38;5;241m*\u001b[39m\u001b[38;5;241m*\u001b[39mkwds)\n\u001b[0;32m     58\u001b[0m \u001b[38;5;28;01mtry\u001b[39;00m:\n\u001b[1;32m---> 59\u001b[0m     \u001b[38;5;28;01mreturn\u001b[39;00m \u001b[43mbound\u001b[49m\u001b[43m(\u001b[49m\u001b[38;5;241;43m*\u001b[39;49m\u001b[43margs\u001b[49m\u001b[43m,\u001b[49m\u001b[43m \u001b[49m\u001b[38;5;241;43m*\u001b[39;49m\u001b[38;5;241;43m*\u001b[39;49m\u001b[43mkwds\u001b[49m\u001b[43m)\u001b[49m\n\u001b[0;32m     60\u001b[0m \u001b[38;5;28;01mexcept\u001b[39;00m \u001b[38;5;167;01mTypeError\u001b[39;00m:\n\u001b[0;32m     61\u001b[0m     \u001b[38;5;66;03m# A TypeError occurs if the object does have such a method in its\u001b[39;00m\n\u001b[0;32m     62\u001b[0m     \u001b[38;5;66;03m# class, but its signature is not identical to that of NumPy's. This\u001b[39;00m\n\u001b[1;32m   (...)\u001b[0m\n\u001b[0;32m     66\u001b[0m     \u001b[38;5;66;03m# Call _wrapit from within the except clause to ensure a potential\u001b[39;00m\n\u001b[0;32m     67\u001b[0m     \u001b[38;5;66;03m# exception has a traceback chain.\u001b[39;00m\n\u001b[0;32m     68\u001b[0m     \u001b[38;5;28;01mreturn\u001b[39;00m _wrapit(obj, method, \u001b[38;5;241m*\u001b[39margs, \u001b[38;5;241m*\u001b[39m\u001b[38;5;241m*\u001b[39mkwds)\n",
      "\u001b[1;31mValueError\u001b[0m: kth(=3) out of bounds (3)"
     ]
    }
   ],
   "source": [
    "destroy_methods = [remove_random_node, remove_highest_cost_node, remove_most_edges_node, remove_smallest_splex, remove_largest_splex]\n",
    "repair_methods = [add_to_smallest_splex, add_to_largest_splex, add_new_splex, add_to_random_splex]\n",
    "\n",
    "destroy_weights = np.ones(len(destroy_methods))\n",
    "repair_weights = np.ones(len(repair_methods))\n",
    "\n",
    "# Parameters:\n",
    "min_weight = 0.05\n",
    "reaction_factor = 0.1\n",
    "T_init = 10000\n",
    "use_metropolis = True\n",
    "cooling = 0.75\n",
    "iterations_per_phase = 10\n",
    "metropolis_success_value = 0.5 # Metropolis = partial success?\n",
    "\n",
    "def update_weight(old_weight, num_applications, num_successes):\n",
    "    if num_applications == 0:\n",
    "        return old_weight\n",
    "    new_weight = old_weight * (1-reaction_factor) + reaction_factor * (num_successes / num_applications)\n",
    "    return max(new_weight, min_weight) # Make sure weight never equals 0\n",
    "\n",
    "\n",
    "node_impact, node_degree, plex_assignment, edges_n1, edges_n2, edge_weights, edge_assignment_orig, s, n, m = create_problem_instance(path)\n",
    "plex_assignment = np.random.choice(1, n) #np.range(n) of size n (second is the size)\n",
    "solution = assignment_to_solution(plex_assignment, node_impact, \n",
    "                                    node_degree, edge_weights, edge_assignment_orig, s)\n",
    "\n",
    "T = T_init\n",
    "edge_assignment = solution.edge_assignment\n",
    "current_score = sum(node_impact)/2\n",
    "\n",
    "for i in range(100):\n",
    "    destroy_prob = destroy_weights/destroy_weights.sum()\n",
    "    repair_prob = repair_weights/repair_weights.sum()\n",
    "\n",
    "    print(destroy_prob)\n",
    "    print(repair_prob)\n",
    "\n",
    "    destroy_applications = np.zeros(len(destroy_methods))\n",
    "    destroy_successes = np.zeros(len(destroy_methods))\n",
    "    repair_applications = np.zeros(len(repair_methods))\n",
    "    repair_successes = np.zeros(len(repair_methods))\n",
    "\n",
    "    for j in range(iterations_per_phase):\n",
    "        destroy_idx = np.random.choice(len(destroy_methods), p=destroy_prob)\n",
    "        repair_idx = np.random.choice(len(repair_methods), p=repair_prob)\n",
    "        \n",
    "        destroy_applications[destroy_idx] += 1\n",
    "        repair_applications[repair_idx] += 1\n",
    "\n",
    "        plex_assignment_new = plex_assignment.copy()\n",
    "        edge_assignment_new = edge_assignment.copy()\n",
    "        node_impact_new = node_impact.copy()\n",
    "        node_degree_new = node_degree.copy()\n",
    "\n",
    "        _, _, removed_nodes = destroy_methods[destroy_idx](plex_assignment_new, edge_assignment_new, n, node_impact_new, node_degree_new, edge_weights)\n",
    "        repaired = repair_methods[repair_idx](plex_assignment_new, edge_assignment_new, n, removed_nodes, node_impact_new, node_degree_new, edge_weights, s)\n",
    "        \n",
    "        new_score = sum(node_impact_new)/2\n",
    "        accept_solution = False\n",
    "        if new_score < current_score:\n",
    "            accept_solution = True\n",
    "            destroy_successes[destroy_idx] += 1\n",
    "            repair_successes[repair_idx] += 1\n",
    "        elif use_metropolis:\n",
    "            metropolis = math.exp(-abs(new_score-current_score)/T)\n",
    "            P = random.uniform(0,1)\n",
    "            if P < metropolis: # accept solution anyway\n",
    "                accept_solution = True\n",
    "                destroy_successes[destroy_idx] += metropolis_success_value\n",
    "                repair_successes[repair_idx] += metropolis_success_value\n",
    "\n",
    "        if accept_solution:\n",
    "            current_score = new_score\n",
    "            plex_assignment = plex_assignment_new\n",
    "            edge_assignment = edge_assignment_new\n",
    "            node_impact = node_impact_new\n",
    "            node_degree = node_degree_new            \n",
    "\n",
    "    for j in range(0, len(destroy_methods)):\n",
    "        destroy_weights[j] = update_weight(destroy_weights[j], destroy_applications[j], destroy_successes[j])\n",
    "        \n",
    "    for j in range(0, len(repair_methods)):\n",
    "        repair_weights[j] = update_weight(repair_weights[j], repair_applications[j], repair_successes[j])\n",
    "\n",
    "    if use_metropolis:\n",
    "        T *= cooling\n",
    "    \n",
    "    print(\"iter\")"
   ]
  },
  {
   "cell_type": "code",
   "execution_count": null,
   "metadata": {},
   "outputs": [
    {
     "data": {
      "text/plain": [
       "(8, 10)"
      ]
     },
     "execution_count": 5,
     "metadata": {},
     "output_type": "execute_result"
    }
   ],
   "source": [
    "get_edge_nodes(43, n)"
   ]
  }
 ],
 "metadata": {
  "kernelspec": {
   "display_name": "Python 3",
   "language": "python",
   "name": "python3"
  },
  "language_info": {
   "codemirror_mode": {
    "name": "ipython",
    "version": 3
   },
   "file_extension": ".py",
   "mimetype": "text/x-python",
   "name": "python",
   "nbconvert_exporter": "python",
   "pygments_lexer": "ipython3",
   "version": "3.11.7"
  }
 },
 "nbformat": 4,
 "nbformat_minor": 2
}
