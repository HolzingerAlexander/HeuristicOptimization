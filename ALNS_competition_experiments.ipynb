{
 "cells": [
  {
   "cell_type": "code",
   "execution_count": null,
   "id": "2d449bb8",
   "metadata": {},
   "outputs": [],
   "source": [
    "import numpy as np\n",
    "import pandas as pd\n",
    "import time\n",
    "import random\n",
    "import os\n",
    "import re\n",
    "import json\n",
    "import ast\n",
    "import seaborn as sns\n",
    "from helper_functions_assignment2 import*"
   ]
  },
  {
   "cell_type": "code",
   "execution_count": null,
   "id": "6b7941ee",
   "metadata": {},
   "outputs": [],
   "source": [
    "folder_path = \"data/inst_competition/\"\n",
    "problem_instances = [file.replace('.txt', '') for file in os.listdir(folder_path) if not file == \"test.txt\"]"
   ]
  },
  {
   "cell_type": "markdown",
   "id": "93b1123b",
   "metadata": {},
   "source": [
    "# ALNS"
   ]
  },
  {
   "cell_type": "markdown",
   "id": "17afc5b5",
   "metadata": {},
   "source": [
    "### run for all best configs from SMAC3"
   ]
  },
  {
   "cell_type": "code",
   "execution_count": null,
   "id": "ef4db60c",
   "metadata": {},
   "outputs": [],
   "source": [
    "# read in the file with the best configurations\n",
    "best_configs = 'ALNS_smac_results.txt'\n",
    "with open(best_configs, 'r') as file:\n",
    "    file_content = file.read()\n",
    "\n",
    "# Extract configurations using regular expressions\n",
    "config_pattern = r\"Configuration\\(values=\\{([^}]*)\\}\\)\"\n",
    "config_values = re.findall(config_pattern, file_content)\n",
    "\n",
    "# Convert configurations to a list of dictionaries\n",
    "config_dicts = []\n",
    "for config_val in config_values:\n",
    "    config_dict = ast.literal_eval('{' + config_val + '}')\n",
    "    config_dicts.append(config_dict)"
   ]
  },
  {
   "cell_type": "code",
   "execution_count": null,
   "id": "31d07117",
   "metadata": {},
   "outputs": [],
   "source": [
    "test_results = []\n",
    "for c in config_dicts:\n",
    "    print(c)\n",
    "    for p in problem_instances:\n",
    "        print(p)\n",
    "        path = folder_path+p+\".txt\"\n",
    "        node_impact_orig, node_degree_orig, plex_assignment, edges_n1, edges_n2, edge_weights, edge_assignment_orig, s, n, m = create_problem_instance(path)\n",
    "\n",
    "        start = time.time()\n",
    "        plex_assignment = np.random.choice(10, n)\n",
    "        number_of_phases = round(4000 / c[\"iterations_per_phase\"])\n",
    "        repair_solution(node_impact_orig, node_degree_orig, plex_assignment, edge_weights, edge_assignment_orig, s)\n",
    "\n",
    "        \n",
    "        plex_assignment, edge_assignment, node_impact, node_degree, score = ALNS(min_weight = c[\"min_weight\"],\n",
    "                                                                                 reaction_factor = c[\"reaction_factor\"], \n",
    "                                                                                 iterations_per_phase = c[\"iterations_per_phase\"], \n",
    "                                                                                 number_of_phases = number_of_phases,\n",
    "                                                                                 node_impact = node_impact_orig, \n",
    "                                                                                 node_degree = node_degree_orig, \n",
    "                                                                                 edge_assignment = edge_assignment_orig, \n",
    "                                                                                 edge_weights = edge_weights, \n",
    "                                                                                 plex_assignment = plex_assignment, \n",
    "                                                                                 s = s, \n",
    "                                                                                 trajectory = False)\n",
    "\n",
    "        test_results.append({\"Instance\": p,\n",
    "                             \"min_weight\": c[\"min_weight\"], \n",
    "                             \"reaction_factor\": c[\"reaction_factor\"], \n",
    "                             \"iterations_per_phase\": c[\"iterations_per_phase\"], \n",
    "                             \"number_of_phases\": number_of_phases,\n",
    "                             \"edge_assignment\": edge_assignment,\n",
    "                             \"baseline\": sum(node_impact_orig)/2,\n",
    "                             \"score\": score, \n",
    "                             \"runtime\": time.time()-start})"
   ]
  },
  {
   "cell_type": "code",
   "execution_count": null,
   "id": "c7260942",
   "metadata": {},
   "outputs": [],
   "source": [
    "results = pd.DataFrame(test_results)\n",
    "results[\"instance_ID\"] = results[\"Instance\"].str[4:7]\n",
    "results"
   ]
  },
  {
   "cell_type": "markdown",
   "id": "0862c69e",
   "metadata": {},
   "source": [
    "### get the rows with best results for each instance"
   ]
  },
  {
   "cell_type": "code",
   "execution_count": null,
   "id": "fee77331",
   "metadata": {},
   "outputs": [],
   "source": [
    "results.loc[results.groupby('Instance').score.idxmin()]"
   ]
  },
  {
   "cell_type": "markdown",
   "id": "9114a650",
   "metadata": {},
   "source": [
    "### save best results"
   ]
  },
  {
   "cell_type": "code",
   "execution_count": null,
   "id": "af7b9f26",
   "metadata": {},
   "outputs": [],
   "source": [
    "for idx in results.groupby('Instance').score.idxmin():\n",
    "    path = folder_path+ results.loc[idx].Instance+\".txt\"\n",
    "    node_impact_orig, node_degree_orig, plex_assignment, edges_n1, edges_n2, edge_weights, edge_assignment_orig, s, n, m = create_problem_instance(path)\n",
    "    \n",
    "    write_solution(results.loc[idx].edge_assignment, \n",
    "                   results.loc[idx].Instance, \n",
    "                   edge_weights, \n",
    "                   edges_n1, \n",
    "                   edges_n2, \n",
    "                   algorithm = \"ALNS\")"
   ]
  }
 ],
 "metadata": {
  "kernelspec": {
   "display_name": "Python 3 (ipykernel)",
   "language": "python",
   "name": "python3"
  },
  "language_info": {
   "codemirror_mode": {
    "name": "ipython",
    "version": 3
   },
   "file_extension": ".py",
   "mimetype": "text/x-python",
   "name": "python",
   "nbconvert_exporter": "python",
   "pygments_lexer": "ipython3",
   "version": "3.11.5"
  }
 },
 "nbformat": 4,
 "nbformat_minor": 5
}
