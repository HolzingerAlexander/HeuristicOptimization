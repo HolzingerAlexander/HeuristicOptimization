{
 "cells": [
  {
   "cell_type": "code",
   "execution_count": 1,
   "id": "2f204a89",
   "metadata": {},
   "outputs": [],
   "source": [
    "import numpy as np\n",
    "import pandas as pd\n",
    "import time\n",
    "import random\n",
    "from helper_functions_assignment2 import*"
   ]
  },
  {
   "cell_type": "code",
   "execution_count": 2,
   "id": "3741c7f4",
   "metadata": {},
   "outputs": [],
   "source": [
    "#problem_instance = \"inst_tuning\\heur040_n_300_m_13358\"\n",
    "instance_type = \"test_instances/\" #\"inst_competition/\" #\"inst_tuning/\" # \n",
    "problem_instance =  \"heur002_n_100_m_3274\" #\"heur040_n_300_m_13358\" #\"heur001_n_10_m_31\" #\"heur049_n_300_m_17695\"\n",
    "path = \"data/\"+instance_type + problem_instance +\".txt\""
   ]
  },
  {
   "cell_type": "markdown",
   "id": "4a7f96be",
   "metadata": {},
   "source": [
    "# Try it Out"
   ]
  },
  {
   "cell_type": "code",
   "execution_count": 3,
   "id": "58ecdbcb",
   "metadata": {},
   "outputs": [],
   "source": [
    "node_impact_orig, node_degree_orig, plex_assignment, edges_n1, edges_n2, edge_weights, edge_assignment_orig, s, n, m = create_problem_instance(path)"
   ]
  },
  {
   "cell_type": "code",
   "execution_count": 4,
   "id": "ff95dec7",
   "metadata": {
    "scrolled": true
   },
   "outputs": [
    {
     "name": "stdout",
     "output_type": "stream",
     "text": [
      "average score of initial population 9132.38\n",
      "generation 1\n",
      "pop size 100\n",
      "average score of population 7653.31\n",
      "population improved sufficiently\n",
      "generation 2\n",
      "pop size 100\n",
      "average score of population 5619.56\n",
      "population improved sufficiently\n",
      "generation 3\n",
      "pop size 100\n",
      "average score of population 4594.26\n",
      "population improved sufficiently\n",
      "generation 4\n",
      "pop size 100\n",
      "average score of population 4489.75\n",
      "generation 5\n",
      "pop size 100\n",
      "average score of population 4373.05\n",
      "13.981371879577637\n"
     ]
    }
   ],
   "source": [
    "start = time.time()\n",
    "test = GA(100, 10, True, 49, 2, 0.05, node_impact_orig, node_degree_orig, edge_assignment_orig, edge_weights, s)\n",
    "print(time.time()-start)"
   ]
  },
  {
   "cell_type": "code",
   "execution_count": 5,
   "id": "832ef86d",
   "metadata": {},
   "outputs": [
    {
     "name": "stdout",
     "output_type": "stream",
     "text": [
      "2757.0\n",
      "11986.0\n"
     ]
    }
   ],
   "source": [
    "print(test.score)\n",
    "print(test.fitness)"
   ]
  },
  {
   "cell_type": "code",
   "execution_count": 7,
   "id": "15e706ab",
   "metadata": {},
   "outputs": [],
   "source": [
    "write_solution(test.edge_assignment, problem_instance, edge_weights, edges_n1, edges_n2, algorithm = \"GA\")"
   ]
  },
  {
   "cell_type": "code",
   "execution_count": null,
   "id": "00ce06bc",
   "metadata": {},
   "outputs": [],
   "source": []
  }
 ],
 "metadata": {
  "kernelspec": {
   "display_name": "Python 3 (ipykernel)",
   "language": "python",
   "name": "python3"
  },
  "language_info": {
   "codemirror_mode": {
    "name": "ipython",
    "version": 3
   },
   "file_extension": ".py",
   "mimetype": "text/x-python",
   "name": "python",
   "nbconvert_exporter": "python",
   "pygments_lexer": "ipython3",
   "version": "3.11.5"
  }
 },
 "nbformat": 4,
 "nbformat_minor": 5
}
