{
 "cells": [
  {
   "cell_type": "code",
   "execution_count": 1,
   "id": "2f204a89",
   "metadata": {},
   "outputs": [],
   "source": [
    "import numpy as np\n",
    "import pandas as pd\n",
    "import time\n",
    "import random\n",
    "from helper_functions_assignment2 import*"
   ]
  },
  {
   "cell_type": "code",
   "execution_count": 2,
   "id": "3741c7f4",
   "metadata": {},
   "outputs": [],
   "source": [
    "#problem_instance = \"inst_tuning\\heur040_n_300_m_13358\"\n",
    "instance_type = \"test_instances/\" #\"inst_competition/\" #\"inst_tuning/\" # \n",
    "problem_instance = \"heur002_n_100_m_3274\" #\"heur040_n_300_m_13358\" #\"heur001_n_10_m_31\" \n",
    "path = \"data/\"+instance_type + problem_instance +\".txt\""
   ]
  },
  {
   "cell_type": "markdown",
   "id": "4a7f96be",
   "metadata": {},
   "source": [
    "# Try it Out"
   ]
  },
  {
   "cell_type": "code",
   "execution_count": 3,
   "id": "58ecdbcb",
   "metadata": {},
   "outputs": [],
   "source": [
    "nodes, node_impact_orig, node_degree, plex_assignment, edges, edge_weights, edge_assignment, s, n, m = create_problem_instance(path)"
   ]
  },
  {
   "cell_type": "code",
   "execution_count": 4,
   "id": "67e8235c",
   "metadata": {},
   "outputs": [],
   "source": [
    "# make copy of node impact as this is difficult to generate when we want to restart\n",
    "node_impact = node_impact_orig"
   ]
  },
  {
   "cell_type": "code",
   "execution_count": 5,
   "id": "900a70b2",
   "metadata": {},
   "outputs": [
    {
     "data": {
      "text/plain": [
       "9755.0"
      ]
     },
     "execution_count": 5,
     "metadata": {},
     "output_type": "execute_result"
    }
   ],
   "source": [
    "sum(node_impact)/2"
   ]
  },
  {
   "cell_type": "markdown",
   "id": "ac4963e1",
   "metadata": {},
   "source": [
    "## generate multiple random plex assignments and evaluate them"
   ]
  },
  {
   "cell_type": "code",
   "execution_count": 6,
   "id": "0c9d91ce",
   "metadata": {},
   "outputs": [
    {
     "name": "stdout",
     "output_type": "stream",
     "text": [
      "7238.0\n",
      "7070.0\n",
      "7262.0\n",
      "7279.0\n"
     ]
    }
   ],
   "source": [
    "for i in range(4):    \n",
    "    # when we want to restart\n",
    "    node_impact = node_impact_orig.copy()\n",
    "    node_degree[:] = 0\n",
    "    edge_assignment[:] = 0\n",
    "    # make random plex assignment\n",
    "    plex_assignment = np.random.choice(n//35, n) #np.range(n) of size n (second is the size)\n",
    "    plex_assignment\n",
    "    # repair solution and evaluate\n",
    "    repair_solution(node_impact, node_degree, plex_assignment, edge_weights, edge_assignment, s)\n",
    "    print(sum(node_impact)/2)"
   ]
  },
  {
   "cell_type": "code",
   "execution_count": null,
   "id": "92b05601",
   "metadata": {},
   "outputs": [],
   "source": []
  }
 ],
 "metadata": {
  "kernelspec": {
   "display_name": "Python 3 (ipykernel)",
   "language": "python",
   "name": "python3"
  },
  "language_info": {
   "codemirror_mode": {
    "name": "ipython",
    "version": 3
   },
   "file_extension": ".py",
   "mimetype": "text/x-python",
   "name": "python",
   "nbconvert_exporter": "python",
   "pygments_lexer": "ipython3",
   "version": "3.11.5"
  }
 },
 "nbformat": 4,
 "nbformat_minor": 5
}
