{
 "cells": [
  {
   "cell_type": "code",
   "execution_count": null,
   "id": "2c070b32",
   "metadata": {},
   "outputs": [],
   "source": [
    "import numpy as np\n",
    "import pandas as pd\n",
    "import networkx as nx # https://networkx.org/documentation/stable/index.html"
   ]
  },
  {
   "cell_type": "code",
   "execution_count": null,
   "id": "db054ef3",
   "metadata": {},
   "outputs": [],
   "source": [
    "# read in meta data\n",
    "metadata = pd.read_csv(\"data\\inst_tuning\\heur040_n_300_m_13358.txt\", sep=\" \", nrows=1, header=None).iloc[0]\n",
    "s = metadata.iloc[0]\n",
    "n = metadata.iloc[1]\n",
    "m = metadata.iloc[2]\n",
    "l = metadata.iloc[3]\n",
    "\n",
    "n"
   ]
  },
  {
   "cell_type": "code",
   "execution_count": null,
   "id": "fa52d1a7",
   "metadata": {},
   "outputs": [],
   "source": [
    "df = pd.read_csv(\"data\\inst_tuning\\heur040_n_300_m_13358.txt\", sep=\" \", skiprows=1, names = [\"n1\", \"n2\", \"e\", \"w\"])\n",
    "df"
   ]
  },
  {
   "cell_type": "markdown",
   "id": "6664ea50",
   "metadata": {},
   "source": [
    "I am not sure if it is really necessary to create the matrices A and w, if we use the networkx library. w might be usefull, but maybe A is not needed. I just tried it out before discovering the networkx package...\n",
    "The code like this gives an (n-1)x(n-1) data frame where only the upper triangle is filled. If we want to represent it differently (e.g. symmetric matrix, boolean matrix, 2Dnumpy array, real upper triangular matrix etc) more transformation is needed.\n",
    "\n",
    "I think for w it makes sense to use the matrix, because we only need it for calculating f. We have to be carefull with index, because the matrix has dimension (n-1)x(n-1) because the diagonal of the n x n matrix would just be 0 (connecting each node with itself costs nothing). Better to work with the row and column index then..."
   ]
  },
  {
   "cell_type": "code",
   "execution_count": null,
   "id": "93245523",
   "metadata": {},
   "outputs": [],
   "source": [
    "# create adjacency matrix as data frame of upper triangular matrix\n",
    "A = df.pivot(index='n1', columns='n2', values='e') #gives upper triangular data frame\n",
    "A"
   ]
  },
  {
   "cell_type": "code",
   "execution_count": null,
   "id": "641e86a3",
   "metadata": {},
   "outputs": [],
   "source": [
    "# create weight matrix as data frame of upper triangular matrix\n",
    "w = df.pivot(index='n1', columns='n2', values='w') #gives upper triangular data frame\n",
    "w"
   ]
  },
  {
   "cell_type": "code",
   "execution_count": null,
   "id": "cbc69023",
   "metadata": {},
   "outputs": [],
   "source": [
    "w.loc[2,3] # weight of edge connecting node 2 and 3"
   ]
  },
  {
   "cell_type": "code",
   "execution_count": null,
   "id": "fcf29686",
   "metadata": {},
   "outputs": [],
   "source": [
    "np.nansum(A.loc[4,])+np.nansum(A.loc[:,4]) # this should give us d(node4), as it is an upper triangular symmetric matrix. \n",
    "# But I don't know if we need this, as it is probably implemented in networkx."
   ]
  },
  {
   "cell_type": "code",
   "execution_count": null,
   "id": "f84fa394",
   "metadata": {},
   "outputs": [],
   "source": [
    "# try out how networkx works\n",
    "# create empty graph\n",
    "g = nx.Graph()\n",
    "\n",
    "# get currently used edges (plus their weight, if we want)\n",
    "current_e = df.loc[df[\"e\"]==1][[\"n1\", \"n2\", \"w\"]].to_numpy()\n",
    "# fill graph by loading it with edges (with weights)\n",
    "g.add_weighted_edges_from(current_e, weight = \"w\")"
   ]
  },
  {
   "cell_type": "code",
   "execution_count": null,
   "id": "2e90c0e1",
   "metadata": {},
   "outputs": [],
   "source": [
    "# we can find out which nodes are currently connected\n",
    "# should give us a list of nodes that are connected\n",
    "d = list(nx.connected_components(g))\n",
    "# d contains disconnected subgraphs\n",
    "# d[0] contains the biggest subgraph\n",
    "d"
   ]
  },
  {
   "cell_type": "code",
   "execution_count": null,
   "id": "685a8a54",
   "metadata": {},
   "outputs": [],
   "source": [
    "# try this function with a completely disconnected graph to see the difference\n",
    "g_disconnected = nx.Graph()\n",
    "g_disconnected.add_nodes_from(range(1, n+1))"
   ]
  },
  {
   "cell_type": "code",
   "execution_count": null,
   "id": "5cf6f3fe",
   "metadata": {},
   "outputs": [],
   "source": [
    "def is_splex(G, s): # alternatively, can use the components as input, then have to get node degree from somewhere else \n",
    "    components = list(nx.connected_components(G))\n",
    "    \n",
    "    break_flag = False\n",
    "    print(components)\n",
    "    for c in components: # loop through components\n",
    "        n_nodes = len(c)\n",
    "        for n in list(c): # loop through nodes in components. It is a set and we have to transform it into a list\n",
    "            print(G.degree[n])\n",
    "            if(G.degree[n]<n_nodes-s):\n",
    "                break_flag = True\n",
    "                break\n",
    "        if break_flag == True: # must be true for all nodes\n",
    "            break\n",
    "            \n",
    "    return not(break_flag)"
   ]
  },
  {
   "cell_type": "code",
   "execution_count": null,
   "id": "628a22cc",
   "metadata": {},
   "outputs": [],
   "source": [
    "is_splex(g, 170)"
   ]
  },
  {
   "cell_type": "code",
   "execution_count": null,
   "id": "f9209826",
   "metadata": {},
   "outputs": [],
   "source": [
    "# try looping through components. Will need more testing\n",
    "for i in d1[0]:\n",
    "    rem = df.loc[((df[\"n1\"]==i) | (df[\"n2\"]==i)) & (df[\"e\"]==1)][[\"w\"]].sum()\n",
    "    print(rem)"
   ]
  },
  {
   "cell_type": "code",
   "execution_count": null,
   "id": "cf4cfa69",
   "metadata": {},
   "outputs": [],
   "source": [
    "class Vertex:\n",
    "    def __init__(self, name: int):\n",
    "        self.name: int = name \n",
    "        self.degree: int = 0\n",
    "        self.edge_weight: int = 0\n",
    "        self.edges: set[\"Edge\"] = set()\n",
    "\n",
    "    def __str__(self) -> str:\n",
    "        return str(self.name)\n",
    "\n",
    "    def add_edge(self, edge: \"Edge\") -> None:\n",
    "        self.edges.add(edge)\n",
    "        self.degree += 1\n",
    "        self.edge_weight += edge.get_weight()\n",
    "\n",
    "    def get_degree(self) -> int:\n",
    "        return self.degree\n",
    "    \n",
    "    def get_edge_weight(self) -> int:\n",
    "        return self.edge_weight\n",
    "    \n",
    "    def get_edges(self) -> set[\"Edge\"]:\n",
    "        return self.edges\n",
    "    \n",
    "    def get_name(self) -> int:\n",
    "        return self.name\n",
    "\n",
    "class Edge:\n",
    "    def __init__(self, v1: Vertex, v2: Vertex, weight: int):\n",
    "        self.vertices = {v1, v2}\n",
    "        self.weight: int = weight\n",
    "    \n",
    "    def __str__(self) -> str:\n",
    "        return \"[\" + str(self.vertices[0]) + \"-\" + str(self.vertices[1]) + \"]\"\n",
    "    \n",
    "    def get_vertices(self) -> set[Vertex]:\n",
    "        return self.vertices\n",
    "    \n",
    "    def get_weight(self) -> int:\n",
    "        return self.weight\n",
    "\n",
    "class Plex:\n",
    "    def __init__(self, vertices):\n",
    "        self.edges = set[Edge]()\n",
    "        self.vertices = set[Vertex]()\n",
    "        for vertex in vertices:\n",
    "            self.add_vertex(vertex)\n",
    "\n",
    "    def __str__(self) -> str:\n",
    "        return \"{\" + (', '.join(list(map(str, self.vertices)))) + \"}\"\n",
    "\n",
    "    def add_vertex(self, vertex: Vertex) -> None:\n",
    "        self.vertices.add(vertex)\n",
    "        \n",
    "    def add_edge(self, edge: Edge) -> None:\n",
    "        self.edges.add(edge)\n",
    "        v1 = edge.get_vertices()[0]\n",
    "        if self.vertices.contains(v1):\n",
    "            v1.add_edge(edge)\n",
    "        \n",
    "        v2 = edge.get_vertices()[1]\n",
    "        if self.vertices.contains(v2):\n",
    "            v2.add_edge(edge)\n",
    "        \n",
    "        # TODO: More elegant solution?\n",
    "    \n",
    "    def get_vertices(self) -> set[Vertex]:\n",
    "        return self.vertices\n",
    "    \n",
    "    def merge(self, other: \"Plex\") -> \"Plex\":\n",
    "        merged = Plex(self.vertices.union(other.vertices))\n",
    "        merged.edges = self.edges.union(other.edges)\n",
    "\n",
    "        return merged\n",
    "    \n",
    "    def contains(self, vertexName) -> bool:\n",
    "        for vertex in self.vertices:\n",
    "            vertex.get_name == vertexName\n",
    "    \n",
    "class Graph:\n",
    "    def __init__(self, vertices: set[Vertex]):\n",
    "        self.plexs: set[Plex] = set()\n",
    "        self.assignments: dict[int, Plex] = dict()\n",
    "        self.total_weight = 0 # Not real weight, but if we allow negative weights it should not matter for the optimization problem\n",
    "        for vertex in vertices:\n",
    "            plex = Plex({vertex})\n",
    "            self.plexs.add(plex)\n",
    "            self.assignments[vertex.get_name()] = plex\n",
    "\n",
    "    def __str__(self) -> str:\n",
    "        return '\\n'.join(list(map(str, self.plexs)))\n",
    "\n",
    "    def merge(self, plex1: Plex, plex2: Plex):\n",
    "        merged = plex1.merge(plex2)\n",
    "        self.plexs.remove(plex1)\n",
    "        self.plexs.remove(plex2)\n",
    "        for vertex in merged.get_vertices():\n",
    "            self.assignments[vertex] = merged\n",
    "\n",
    "    def add_edge(self, edge: Edge) -> None:\n",
    "        self.total_weight += edge.get_weight()\n",
    "        \n",
    "        participating_plexs = set(map(lambda v: self.assignments[v.get_name()], edge.get_vertices()))\n",
    "        for p in participating_plexs:\n",
    "            p.add_edge(edge)\n",
    "\n",
    "    def get_plex(self, name: str) -> Plex:\n",
    "        return self.assignments[name]\n",
    "    "
   ]
  },
  {
   "cell_type": "code",
   "execution_count": null,
   "id": "875ee737",
   "metadata": {},
   "outputs": [],
   "source": [
    "vertices = set()\n",
    "for i in range(1, n+1):\n",
    "    vertices.add(Vertex(i))\n",
    "\n",
    "graph = Graph(vertices)\n",
    "\n",
    "print(str(graph))\n"
   ]
  },
  {
   "cell_type": "code",
   "execution_count": null,
   "id": "15704480",
   "metadata": {},
   "outputs": [],
   "source": [
    "existing_edges = df.loc[df[\"e\"]==1].sort_values(\"w\", ascending=False)\n",
    "print(existing_edges)\n",
    "\n",
    "current_g = g_disconnected.copy()\n",
    "s_Plexs = list(nx.connected_components(current_g))\n",
    "plex_assignment = dict(map(lambda plex: (next(iter(plex)), plex), s_Plexs))\n",
    "\n",
    "remaining_edges = len(existing_edges)\n",
    "\n",
    "# TODO: Costs of the edges connected to a node\n",
    "# TODO: Degree of a node\n",
    "# TODO: Set of changed edges\n",
    "# TODO: Total cost\n",
    "\n",
    "for index, row in existing_edges.iterrows():\n",
    "    n1_plex = plex_assignment[row[\"n1\"]]\n",
    "    n2_plex = plex_assignment[row[\"n2\"]]\n",
    "    nodes = n1_plex.union(n2_plex)\n",
    "\n",
    "    other_edges_to_add = existing_edges.loc[(df[\"n1\"].isin(nodes)) & (df[\"n2\"].isin(nodes))]\n",
    "    \n",
    "    #if len(other_edges_to_add) > 2:\n",
    "    #    print(len(other_edges_to_add))\n",
    "    #    for edge in other_edges_to_add.iterrows():\n",
    "    #        print(edge)\n",
    "    #        \n",
    "    #    print()\n",
    "\n",
    "    number_of_nodes = len(nodes)\n",
    "    edges_missing = False\n",
    "\n",
    "    for node in nodes:\n",
    "        if current_g.degree(node) < number_of_nodes - s:\n",
    "            edges_missing = True\n",
    "            # TODO: Add other edges\n",
    "\n",
    "    if not edges_missing:\n",
    "        current_g.add_edge(row[\"n1\"], row[\"n2\"])\n",
    "        \n",
    "        s_Plexs.remove(n1_plex)\n",
    "        if n1_plex != n2_plex:\n",
    "            s_Plexs.remove(n2_plex)\n",
    "        s_Plexs.append(nodes)\n",
    "        \n",
    "        for node in nodes:\n",
    "            plex_assignment[node] = nodes\n",
    "            plex_assignment[node] = nodes\n",
    "\n",
    "        remaining_edges -= 1\n",
    "\n",
    "print(s_Plexs)"
   ]
  }
 ],
 "metadata": {
  "kernelspec": {
   "display_name": "Python 3 (ipykernel)",
   "language": "python",
   "name": "python3"
  },
  "language_info": {
   "codemirror_mode": {
    "name": "ipython",
    "version": 3
   },
   "file_extension": ".py",
   "mimetype": "text/x-python",
   "name": "python",
   "nbconvert_exporter": "python",
   "pygments_lexer": "ipython3",
   "version": "3.11.6"
  }
 },
 "nbformat": 4,
 "nbformat_minor": 5
}
