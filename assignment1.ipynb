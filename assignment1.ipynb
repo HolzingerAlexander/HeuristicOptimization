{
 "cells": [
  {
   "cell_type": "code",
   "execution_count": null,
   "id": "2c070b32",
   "metadata": {},
   "outputs": [],
   "source": [
    "import numpy as np\n",
    "import pandas as pd\n",
    "import networkx as nx # https://networkx.org/documentation/stable/index.html"
   ]
  },
  {
   "cell_type": "code",
   "execution_count": null,
   "id": "db054ef3",
   "metadata": {},
   "outputs": [],
   "source": [
    "# read in meta data\n",
    "metadata = pd.read_csv(\"data\\inst_tuning\\heur040_n_300_m_13358.txt\", sep=\" \", nrows=1, header=None).iloc[0]\n",
    "s = metadata.iloc[0]\n",
    "n = metadata.iloc[1]\n",
    "m = metadata.iloc[2]\n",
    "l = metadata.iloc[3]"
   ]
  },
  {
   "cell_type": "code",
   "execution_count": null,
   "id": "fa52d1a7",
   "metadata": {},
   "outputs": [],
   "source": [
    "df = pd.read_csv(\"data\\inst_tuning\\heur040_n_300_m_13358.txt\", sep=\" \", skiprows=1, names = [\"n1\", \"n2\", \"e\", \"w\"])\n",
    "df"
   ]
  },
  {
   "cell_type": "markdown",
   "id": "6664ea50",
   "metadata": {},
   "source": [
    "I am not sure if it is really necessary to create the matrices A and w, if we use the networkx library. w might be usefull, but maybe A is not needed. I just tried it out before discovering the networkx package...\n",
    "The code like this gives an (n-1)x(n-1) data frame where only the upper triangel is filled. If we want to represent it differently (e.g. symmetric matrix, boolean matrix, 2Dnumpy array, real upper triangular matrix etc) more transformation is needed.\n",
    "\n",
    "I think for w it makes sense to use the matrix, because we only need it for calculating f. We have to be carefull with index, because the matrix has dimension (n-1)x(n-1) because the diagonal of the n x n matrix would just be 0 (connecting each node with itself costs nothing). Better to work with the row and column index then..."
   ]
  },
  {
   "cell_type": "code",
   "execution_count": null,
   "id": "93245523",
   "metadata": {},
   "outputs": [],
   "source": [
    "# create adjacency matrix as data frame of upper triangular matrix\n",
    "A = df.pivot(index='n1', columns='n2', values='e') #gives upper triangular data frame\n",
    "A"
   ]
  },
  {
   "cell_type": "code",
   "execution_count": null,
   "id": "641e86a3",
   "metadata": {},
   "outputs": [],
   "source": [
    "# create weight matrix as data frame of upper triangular matrix\n",
    "w = df.pivot(index='n1', columns='n2', values='w') #gives upper triangular data frame\n",
    "w"
   ]
  },
  {
   "cell_type": "code",
   "execution_count": null,
   "id": "cbc69023",
   "metadata": {},
   "outputs": [],
   "source": [
    "w.loc[2,3] # weight of edge connecting node 2 and 3"
   ]
  },
  {
   "cell_type": "code",
   "execution_count": null,
   "id": "fcf29686",
   "metadata": {},
   "outputs": [],
   "source": [
    "np.nansum(A.loc[4,])+np.nansum(A.loc[:,4]) # this should give us d(node4), as it is an upper triangular symmetric matrix. \n",
    "# But I don't know if we need this, as it is probably implemented in networkx."
   ]
  },
  {
   "cell_type": "code",
   "execution_count": null,
   "id": "f84fa394",
   "metadata": {},
   "outputs": [],
   "source": [
    "# try out how networkx works\n",
    "# create empty graph\n",
    "g = nx.Graph()\n",
    "\n",
    "# get currently used edges (plus their weight, if we want)\n",
    "current_e = df.loc[df[\"e\"]==1][[\"n1\", \"n2\", \"w\"]].to_numpy()\n",
    "# fill graph by loading it with edges (with weights)\n",
    "g.add_weighted_edges_from(current_e, weight = \"w\")\n"
   ]
  },
  {
   "cell_type": "code",
   "execution_count": null,
   "id": "2e90c0e1",
   "metadata": {},
   "outputs": [],
   "source": [
    "# we can find out which nodes are currently connected\n",
    "# should give us a list of nodes that are connected\n",
    "d = list(nx.connected_components(g))\n",
    "# d contains disconnected subgraphs\n",
    "# d[0] contains the biggest subgraph\n",
    "d"
   ]
  },
  {
   "cell_type": "code",
   "execution_count": null,
   "id": "685a8a54",
   "metadata": {},
   "outputs": [],
   "source": [
    "# try this function with a completely disconnected graph to see the difference\n",
    "g_disconnected = nx.Graph()\n",
    "g_disconnected.add_nodes_from(range(1, 20))\n",
    "d1 = list(nx.connected_components(g_disconnected))\n",
    "d1"
   ]
  },
  {
   "cell_type": "code",
   "execution_count": null,
   "id": "f9209826",
   "metadata": {},
   "outputs": [],
   "source": [
    "# try looping through components. Will need more testing\n",
    "for i in d1[0]:\n",
    "    rem = df.loc[((df[\"n1\"]==i) | (df[\"n2\"]==i)) & (df[\"e\"]==1)][[\"w\"]].sum()\n",
    "    print(rem)"
   ]
  },
  {
   "cell_type": "code",
   "execution_count": null,
   "id": "802a239c",
   "metadata": {},
   "outputs": [],
   "source": []
  }
 ],
 "metadata": {
  "kernelspec": {
   "display_name": "Python 3 (ipykernel)",
   "language": "python",
   "name": "python3"
  },
  "language_info": {
   "codemirror_mode": {
    "name": "ipython",
    "version": 3
   },
   "file_extension": ".py",
   "mimetype": "text/x-python",
   "name": "python",
   "nbconvert_exporter": "python",
   "pygments_lexer": "ipython3",
   "version": "3.11.5"
  }
 },
 "nbformat": 4,
 "nbformat_minor": 5
}
