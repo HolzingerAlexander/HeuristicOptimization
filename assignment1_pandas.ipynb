{
 "cells": [
  {
   "cell_type": "code",
   "execution_count": null,
   "id": "aa161221",
   "metadata": {},
   "outputs": [],
   "source": [
    "import numpy as np\n",
    "import pandas as pd\n",
    "import time"
   ]
  },
  {
   "cell_type": "code",
   "execution_count": null,
   "id": "9423883a",
   "metadata": {},
   "outputs": [],
   "source": [
    "# read in meta data\n",
    "metadata = pd.read_csv(\"data\\inst_tuning\\heur040_n_300_m_13358.txt\", sep=\" \", nrows=1, header=None).iloc[0]\n",
    "s = metadata.iloc[0]\n",
    "n = metadata.iloc[1]\n",
    "m = metadata.iloc[2]\n",
    "l = metadata.iloc[3]\n",
    "\n",
    "n"
   ]
  },
  {
   "cell_type": "code",
   "execution_count": null,
   "id": "3ee911f5",
   "metadata": {},
   "outputs": [],
   "source": [
    "df = pd.read_csv(\"data\\inst_tuning\\heur040_n_300_m_13358.txt\", sep=\" \", skiprows=1, names = [\"n1\", \"n2\", \"e\", \"w\"])\n",
    "df"
   ]
  },
  {
   "cell_type": "code",
   "execution_count": null,
   "id": "2986a0ad",
   "metadata": {},
   "outputs": [],
   "source": [
    "# create nodes data frame\n",
    "nodes_from = df.loc[df[\"e\"]==1][[\"n1\",\"w\"]].groupby(['n1']).sum()\n",
    "nodes_from\n",
    "nodes_to = df.loc[df[\"e\"]==1][[\"n2\",\"w\"]].groupby(['n2']).sum()\n",
    "nodes_to\n",
    "\n",
    "nodes = nodes_from.join(nodes_to, lsuffix='_from', rsuffix='_to', how = 'outer')\n",
    "nodes['node_impact'] = nodes.w_from.fillna(0) + nodes.w_to.fillna(0)\n",
    "nodes = nodes.drop(columns=['w_from', 'w_to'])\n",
    "nodes['current_degree'] = 0\n",
    "nodes['splex'] = nodes.index\n",
    "nodes = nodes.reset_index().rename(columns={\"index\":\"node_number\"})\n",
    "nodes"
   ]
  },
  {
   "cell_type": "code",
   "execution_count": null,
   "id": "46ccc685",
   "metadata": {},
   "outputs": [],
   "source": [
    "edges = df.copy()\n",
    "edges['w'] = edges['w'] * (1-(edges['e']*2))\n",
    "edges['e'] = 0\n",
    "edges.loc[edges['w'] < 0]"
   ]
  },
  {
   "cell_type": "code",
   "execution_count": null,
   "id": "690aeee4",
   "metadata": {},
   "outputs": [],
   "source": [
    "def is_splex(nodes, plex_number, s) -> bool | pd.DataFrame:\n",
    "    splex = nodes.loc[nodes[\"splex\"] == plex_number]\n",
    "    min_degree = len(splex.index) - s\n",
    "    problem_nodes = splex.loc[splex[\"current_degree\"] < min_degree]\n",
    "    \n",
    "    if len(problem_nodes.index) == 0:\n",
    "        return True\n",
    "    else:\n",
    "        return problem_nodes\n",
    "\n",
    "is_splex(nodes, 2, 1)"
   ]
  },
  {
   "cell_type": "code",
   "execution_count": null,
   "id": "b57d06ea",
   "metadata": {},
   "outputs": [],
   "source": [
    "existing_edges = df.loc[df[\"e\"]==1].sort_values(\"w\", ascending=False)\n",
    "existing_edges"
   ]
  },
  {
   "cell_type": "code",
   "execution_count": null,
   "id": "d4f71219",
   "metadata": {},
   "outputs": [],
   "source": [
    "nodes_in_plex = nodes.loc[(nodes[\"splex\"]==201) | (nodes[\"splex\"] ==30), \"node_number\"].values\n",
    "nodes_in_plex\n",
    "#for node in nodes_in_plex:\n",
    "#    print(nodes.loc[nodes[\"node_number\"]==node,\"current_degree\"].values[0]<3)"
   ]
  },
  {
   "cell_type": "code",
   "execution_count": null,
   "id": "b8813955",
   "metadata": {},
   "outputs": [],
   "source": [
    "existing_edges = df.loc[df[\"e\"]==1].sort_values(\"w\", ascending=False)\n",
    "\n",
    "remaining_edges = len(existing_edges) # wozu?\n",
    "start = time.time()\n",
    "for index, row in existing_edges.iterrows():\n",
    "    # get plex assignment of both nodes\n",
    "    n1_plex = nodes.loc[nodes[\"node_number\"]==row[\"n1\"], \"splex\"].values[0]\n",
    "    n2_plex = nodes.loc[nodes[\"node_number\"]==row[\"n2\"], \"splex\"].values[0]\n",
    "    # all nodes that would be in the plex if we merged it\n",
    "    nodes_in_plex = nodes.loc[(nodes[\"splex\"]==n1_plex) | (nodes[\"splex\"] ==n2_plex), \"node_number\"].values\n",
    "    # I guess this is for the TODO\n",
    "    other_edges_to_add = existing_edges.loc[(existing_edges[\"n1\"].isin(nodes_in_plex)) & \n",
    "                                            (existing_edges[\"n2\"].isin(nodes_in_plex))]\n",
    "    \n",
    "    \n",
    "    number_of_nodes = len(nodes_in_plex)\n",
    "    edges_missing = False\n",
    "\n",
    "    for node in nodes_in_plex:\n",
    "        # check if it would be a valid splex if we merge\n",
    "        if nodes.loc[nodes[\"node_number\"]==node,\"current_degree\"].values[0] < (number_of_nodes - s):\n",
    "            edges_missing = True\n",
    "            # TODO: Add other edges\n",
    "    \n",
    "    # if it would be a valid splex, actually merge it\n",
    "    if not edges_missing:\n",
    "        # merge them\n",
    "        nodes.loc[nodes[\"splex\"]==n2_plex, \"splex\"] = n1_plex\n",
    "        # include the connectig edge\n",
    "        edges.loc[(edges[\"n1\"]==row[\"n1\"]) & (edges[\"n2\"]==row[\"n2\"]), \"e\"] = 1 \n",
    "        # update node info (degree and node impact)\n",
    "        nodes.loc[nodes[\"node_number\"]==row[\"n1\"], \"current_degree\"] +=1\n",
    "        nodes.loc[nodes[\"node_number\"]==row[\"n2\"], \"current_degree\"] +=1\n",
    "        nodes.loc[nodes[\"node_number\"]==row[\"n1\"], \"node_impact\"] -=row[\"w\"]\n",
    "        nodes.loc[nodes[\"node_number\"]==row[\"n2\"], \"node_impact\"] -=row[\"w\"]\n",
    "\n",
    "        remaining_edges -= 1 #wozu?\n",
    "print(round(time.time()-start, 2), \"seconds\")"
   ]
  },
  {
   "cell_type": "code",
   "execution_count": null,
   "id": "314caaca",
   "metadata": {},
   "outputs": [],
   "source": [
    "nodes"
   ]
  },
  {
   "cell_type": "code",
   "execution_count": null,
   "id": "3f98c46b",
   "metadata": {},
   "outputs": [],
   "source": [
    "edges.loc[edges['e'] >0]"
   ]
  },
  {
   "cell_type": "code",
   "execution_count": null,
   "id": "688d5854",
   "metadata": {},
   "outputs": [],
   "source": []
  }
 ],
 "metadata": {
  "kernelspec": {
   "display_name": "Python 3 (ipykernel)",
   "language": "python",
   "name": "python3"
  },
  "language_info": {
   "codemirror_mode": {
    "name": "ipython",
    "version": 3
   },
   "file_extension": ".py",
   "mimetype": "text/x-python",
   "name": "python",
   "nbconvert_exporter": "python",
   "pygments_lexer": "ipython3",
   "version": "3.11.5"
  }
 },
 "nbformat": 4,
 "nbformat_minor": 5
}
