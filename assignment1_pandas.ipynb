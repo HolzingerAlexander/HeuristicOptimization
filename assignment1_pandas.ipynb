{
 "cells": [
  {
   "cell_type": "code",
   "execution_count": 1,
   "id": "aa161221",
   "metadata": {},
   "outputs": [],
   "source": [
    "import numpy as np\n",
    "import pandas as pd\n",
    "import time\n",
    "import random\n",
    "from helper_functions import *"
   ]
  },
  {
   "cell_type": "code",
   "execution_count": null,
   "id": "61b841bf",
   "metadata": {},
   "outputs": [],
   "source": [
    "#problem_instance = \"inst_tuning\\heur040_n_300_m_13358\"\n",
    "instance_type = \"test_instances/\" #\"inst_competition/\" #\"inst_tuning/\" # \n",
    "problem_instance = \"heur002_n_100_m_3274\" #\"heur040_n_300_m_13358\" #\"heur001_n_10_m_31\" \n",
    "path = \"data/\"+instance_type + problem_instance +\".txt\""
   ]
  },
  {
   "cell_type": "code",
   "execution_count": null,
   "id": "d93516d5",
   "metadata": {},
   "outputs": [],
   "source": [
    "nodes, edges, s, n, m = create_problem_instance(path)\n",
    "is_splex(nodes = nodes, plex_number = 2, s=s)"
   ]
  },
  {
   "cell_type": "markdown",
   "id": "192f4db1",
   "metadata": {},
   "source": [
    "# Construction heuristic"
   ]
  },
  {
   "cell_type": "code",
   "execution_count": null,
   "id": "89c4cb1c",
   "metadata": {},
   "outputs": [],
   "source": [
    "constr_nodes, constr_edges, constr_score = construction_heuristic(nodes,edges,s)\n",
    "print(\"number of plexes: \"+ str(len(constr_nodes[\"splex\"].unique())))\n",
    "print(\"score: \" +str(constr_score))\n",
    "print(constr_edges)"
   ]
  },
  {
   "cell_type": "markdown",
   "id": "c483330b",
   "metadata": {},
   "source": [
    "# Randomized Construction heuristic"
   ]
  },
  {
   "cell_type": "code",
   "execution_count": null,
   "id": "2c5e584d",
   "metadata": {},
   "outputs": [],
   "source": [
    "rand_nodes, rand_edges, rand_score = randomized_greedy(nodes, edges, s, alpha = 0.75)\n",
    "print(\"number of plexes: \"+ str(len(rand_nodes[\"splex\"].unique())))\n",
    "print(\"score: \" +str(rand_score))"
   ]
  },
  {
   "cell_type": "markdown",
   "id": "fbeec1e4",
   "metadata": {},
   "source": [
    "# extract 1 node neighborhood"
   ]
  },
  {
   "cell_type": "code",
   "execution_count": null,
   "id": "1c49dca1",
   "metadata": {},
   "outputs": [],
   "source": [
    "extract_nodes, extract_edges, extract_score = extract1node(constr_nodes, constr_edges, constr_score, s, step = \"best\")\n",
    "print(\"number of plexes: \"+ str(len(extract_nodes[\"splex\"].unique())))\n",
    "print(\"score: \" +str(extract_score))"
   ]
  },
  {
   "cell_type": "markdown",
   "id": "b6a6c73e",
   "metadata": {},
   "source": [
    "# merge 2 plexes neighborhood"
   ]
  },
  {
   "cell_type": "code",
   "execution_count": null,
   "id": "71416818",
   "metadata": {},
   "outputs": [],
   "source": [
    "merged_nodes, merged_edges, merged_score = merge2plexes(constr_nodes, constr_edges, constr_score, s, \n",
    "                                                        step = \"best\", add_neg_edges = True)\n",
    "print(\"number of plexes: \"+ str(len(merged_nodes[\"splex\"].unique())))\n",
    "print(\"score: \" +str(merged_score))\n"
   ]
  },
  {
   "cell_type": "code",
   "execution_count": null,
   "id": "dabb2549",
   "metadata": {},
   "outputs": [],
   "source": [
    "merged_nodes2, merged_edges2, merged_score2 = merge2plexes(constr_nodes, constr_edges, constr_score, s, \n",
    "                                                        step = \"best\", add_neg_edges = False)\n",
    "print(\"number of plexes: \"+ str(len(merged_nodes2[\"splex\"].unique())))\n",
    "print(\"score: \" +str(merged_score2))"
   ]
  },
  {
   "cell_type": "markdown",
   "id": "044ab684",
   "metadata": {},
   "source": [
    "## do it again on the new best solution"
   ]
  },
  {
   "cell_type": "code",
   "execution_count": null,
   "id": "a8b38d10",
   "metadata": {},
   "outputs": [],
   "source": [
    "merged_nodes3, merged_edges3, merged_score3 = merge2plexes(merged_nodes, merged_edges, merged_score, s, step = \"best\")\n",
    "print(\"number of plexes: \"+ str(len(merged_nodes2[\"splex\"].unique())))\n",
    "print(\"score: \" +str(merged_score2))"
   ]
  },
  {
   "cell_type": "markdown",
   "id": "63f6758f",
   "metadata": {},
   "source": [
    "# einmal alles (mit scharf)"
   ]
  },
  {
   "cell_type": "code",
   "execution_count": null,
   "id": "ca02b787",
   "metadata": {},
   "outputs": [],
   "source": [
    "instance_type = \"inst_competition/\"#\"test_instances/\" #\"inst_competition/\" #\"inst_tuning/\" # \n",
    "problem_instance = \"heur051_n_300_m_20122\" #\"heur040_n_300_m_13358\" #\"heur001_n_10_m_31\" \n",
    "path = \"data/\"+instance_type + problem_instance +\".txt\"\n",
    "nodes, edges, s, n, m = create_problem_instance(path)\n",
    "print(edges)\n",
    "constr_nodes, constr_edges, constr_score = construction_heuristic(nodes, edges, s)\n",
    "write_solution(constr_edges, problem_instance, algorithm = \"construction\")\n",
    "print(constr_edges)"
   ]
  },
  {
   "cell_type": "code",
   "execution_count": 2,
   "id": "30dbf939",
   "metadata": {},
   "outputs": [],
   "source": [
    "def vnd(solution: Solution, neighborhoods: list[Neighborhood], max_minutes = 60) -> Solution:\n",
    "    current_best: Solution = solution\n",
    "    \n",
    "    start = time.time()\n",
    "\n",
    "    i = 0 # First neighborhood\n",
    "    while i < len(neighborhoods):\n",
    "        current_neighborhood: Neighborhood = neighborhoods[i]\n",
    "        local_optimum = current_neighborhood.get_improvement(current_best, \"first\")\n",
    "\n",
    "        print(\"i: \" + str(i) + \", \" + str(local_optimum.get_weight()))\n",
    "        if not valid(local_optimum):\n",
    "            break\n",
    "            \n",
    "        if not consistent(local_optimum):\n",
    "            break\n",
    "\n",
    "        if local_optimum.get_weight() < current_best.get_weight():\n",
    "            current_best = local_optimum\n",
    "            i = 0\n",
    "        else:\n",
    "            i += 1\n",
    "        \n",
    "        if (time.time()-start) > (max_minutes * 60):\n",
    "            break\n",
    "\n",
    "    return current_best"
   ]
  },
  {
   "cell_type": "code",
   "execution_count": 3,
   "metadata": {},
   "outputs": [],
   "source": [
    "plex_merge_neighborhood = Neighborhood(lambda sol, step: merge2plexes(sol.get_nodes(), sol.get_edges(), sol.get_weight(), sol.get_s(), step, ))\n",
    "add_edge_neighborhood = Neighborhood(lambda sol, step: add_edge_within_plex(sol.get_nodes(), sol.get_edges(), sol.get_weight(), sol.get_s(), step))\n",
    "remove_edge_neighborhood = Neighborhood(lambda sol, step: remove_edge(sol.get_nodes(), sol.get_edges(), sol.get_weight(), sol.get_s(), step, skip_invalid=True))\n",
    "extract_node_neighborhood = Neighborhood(lambda sol, step: extract1node(sol.get_nodes(), sol.get_edges(), sol.get_weight(), sol.get_s(), step))"
   ]
  },
  {
   "cell_type": "code",
   "execution_count": null,
   "metadata": {},
   "outputs": [],
   "source": [
    "problem = Problem(path)\n",
    "solution = grasp(problem, plex_merge_neighborhood, 20)\n",
    "print(solution.get_weight())"
   ]
  },
  {
   "cell_type": "code",
   "execution_count": null,
   "metadata": {},
   "outputs": [],
   "source": [
    "#problem = Problem(\"data/inst_competition/heur051_n_300_m_20122.txt\")\n",
    "#initial_solution = problem.get_heuristic_solution()\n",
    "#print(valid(initial_solution))\n",
    "#print(initial_solution.get_weight())\n",
    "#print(initial_solution.get_nodes())\n",
    "#write_solution(initial_solution.get_edges(), \"heur051_n_300_m_20122\", \"construction\")\n",
    "#local_optimum = vnd(initial_solution, [add_edge_neighborhood, remove_edge_neighborhood, extract_node_neighborhood, plex_merge_neighborhood])\n",
    "print(valid(local_optimum))\n",
    "write_solution(initial_solution.get_edges(), \"heur051_n_300_m_20122\", \"vnd\")"
   ]
  },
  {
   "cell_type": "code",
   "execution_count": null,
   "metadata": {},
   "outputs": [],
   "source": [
    "#plex_merge_neighborhood.get_improvement(inital_solution, ImprovementType.BEST)\n",
    "#add_edge_neighborhood.get_improvement(inital_solution, ImprovementType.BEST)\n",
    "#remove_edge_neighborhood.get_improvement(inital_solution, ImprovementType.BEST)\n",
    "#extract_node_neighborhood.get_improvement(inital_solution, ImprovementType.BEST)\n",
    "\n",
    "local_optimum.get_edges()"
   ]
  },
  {
   "cell_type": "code",
   "execution_count": 4,
   "metadata": {},
   "outputs": [
    {
     "name": "stdout",
     "output_type": "stream",
     "text": [
      "<class 'pandas.core.frame.DataFrame'>\n",
      "      n1  n2  e  w\n",
      "4953  18  25  0 -2\n",
      "<class 'pandas.core.frame.DataFrame'>\n",
      "        n1   n2  e  w\n",
      "0        1    2  0 -7\n",
      "1        1    3  0 -1\n",
      "2        1    4  0 -1\n",
      "3        1    5  0 -5\n",
      "4        1    6  0 -7\n",
      "...    ...  ... .. ..\n",
      "44845  297  299  0 -3\n",
      "44846  297  300  0 -4\n",
      "44847  298  299  0 -1\n",
      "44848  298  300  0 -2\n",
      "44849  299  300  0 -4\n",
      "\n",
      "[44850 rows x 4 columns]\n"
     ]
    },
    {
     "ename": "ValueError",
     "evalue": "Can only compare identically-labeled Series objects",
     "output_type": "error",
     "traceback": [
      "\u001b[1;31m---------------------------------------------------------------------------\u001b[0m",
      "\u001b[1;31mValueError\u001b[0m                                Traceback (most recent call last)",
      "\u001b[1;32mc:\\Users\\alexa\\OneDrive\\Dokumente\\Heuristic Optimization\\HeuristicOptimization\\assignment1_pandas.ipynb Cell 22\u001b[0m line \u001b[0;36m1\n\u001b[0;32m     <a href='vscode-notebook-cell:/c%3A/Users/alexa/OneDrive/Dokumente/Heuristic%20Optimization/HeuristicOptimization/assignment1_pandas.ipynb#X61sZmlsZQ%3D%3D?line=13'>14</a>\u001b[0m curr_randomized \u001b[39m=\u001b[39m \u001b[39mNone\u001b[39;00m\n\u001b[0;32m     <a href='vscode-notebook-cell:/c%3A/Users/alexa/OneDrive/Dokumente/Heuristic%20Optimization/HeuristicOptimization/assignment1_pandas.ipynb#X61sZmlsZQ%3D%3D?line=14'>15</a>\u001b[0m \u001b[39mfor\u001b[39;00m i \u001b[39min\u001b[39;00m \u001b[39mrange\u001b[39m(\u001b[39m2\u001b[39m):\n\u001b[1;32m---> <a href='vscode-notebook-cell:/c%3A/Users/alexa/OneDrive/Dokumente/Heuristic%20Optimization/HeuristicOptimization/assignment1_pandas.ipynb#X61sZmlsZQ%3D%3D?line=15'>16</a>\u001b[0m     curr \u001b[39m=\u001b[39m curr_problem\u001b[39m.\u001b[39;49mget_randomized_solution()\n\u001b[0;32m     <a href='vscode-notebook-cell:/c%3A/Users/alexa/OneDrive/Dokumente/Heuristic%20Optimization/HeuristicOptimization/assignment1_pandas.ipynb#X61sZmlsZQ%3D%3D?line=16'>17</a>\u001b[0m     \u001b[39mif\u001b[39;00m (randomized \u001b[39m==\u001b[39m \u001b[39mNone\u001b[39;00m) \u001b[39mor\u001b[39;00m (curr\u001b[39m.\u001b[39mget_weight() \u001b[39m<\u001b[39m curr\u001b[39m.\u001b[39mget_weight()):\n\u001b[0;32m     <a href='vscode-notebook-cell:/c%3A/Users/alexa/OneDrive/Dokumente/Heuristic%20Optimization/HeuristicOptimization/assignment1_pandas.ipynb#X61sZmlsZQ%3D%3D?line=17'>18</a>\u001b[0m         randomized \u001b[39m=\u001b[39m curr\n",
      "File \u001b[1;32mc:\\Users\\alexa\\OneDrive\\Dokumente\\Heuristic Optimization\\HeuristicOptimization\\helper_functions.py:623\u001b[0m, in \u001b[0;36mProblem.get_randomized_solution\u001b[1;34m(self)\u001b[0m\n\u001b[0;32m    622\u001b[0m \u001b[39mdef\u001b[39;00m \u001b[39mget_randomized_solution\u001b[39m(\u001b[39mself\u001b[39m) \u001b[39m-\u001b[39m\u001b[39m>\u001b[39m Solution:\n\u001b[1;32m--> 623\u001b[0m     sol_nod, sol_edg, sol_weight \u001b[39m=\u001b[39m randomized_greedy(\u001b[39mself\u001b[39;49m\u001b[39m.\u001b[39;49mnodes, \u001b[39mself\u001b[39;49m\u001b[39m.\u001b[39;49medges, \u001b[39mself\u001b[39;49m\u001b[39m.\u001b[39;49ms)\n\u001b[0;32m    624\u001b[0m     \u001b[39mreturn\u001b[39;00m Solution(sol_nod, sol_edg, \u001b[39mself\u001b[39m\u001b[39m.\u001b[39ms, sol_weight)\n",
      "File \u001b[1;32mc:\\Users\\alexa\\OneDrive\\Dokumente\\Heuristic Optimization\\HeuristicOptimization\\helper_functions.py:343\u001b[0m, in \u001b[0;36mrandomized_greedy\u001b[1;34m(nodes_orig, edges_orig, s, alpha, random_seed)\u001b[0m\n\u001b[0;32m    340\u001b[0m \u001b[39mprint\u001b[39m(\u001b[39mtype\u001b[39m(edges))\n\u001b[0;32m    341\u001b[0m \u001b[39mprint\u001b[39m(edges)\n\u001b[1;32m--> 343\u001b[0m \u001b[39mif\u001b[39;00m edges\u001b[39m.\u001b[39mloc[(edges[\u001b[39m\"\u001b[39;49m\u001b[39mn1\u001b[39;49m\u001b[39m\"\u001b[39;49m]\u001b[39m==\u001b[39;49mrow[\u001b[39m\"\u001b[39;49m\u001b[39mn1\u001b[39;49m\u001b[39m\"\u001b[39;49m]) \u001b[39m&\u001b[39m (edges[\u001b[39m\"\u001b[39m\u001b[39mn2\u001b[39m\u001b[39m\"\u001b[39m]\u001b[39m==\u001b[39mrow[\u001b[39m\"\u001b[39m\u001b[39mn2\u001b[39m\u001b[39m\"\u001b[39m]), \u001b[39m\"\u001b[39m\u001b[39me\u001b[39m\u001b[39m\"\u001b[39m]\u001b[39m.\u001b[39mvalues[\u001b[39m0\u001b[39m] \u001b[39m==\u001b[39m \u001b[39m1\u001b[39m:\n\u001b[0;32m    344\u001b[0m     \u001b[39mprint\u001b[39m(iteration)\n\u001b[0;32m    345\u001b[0m     iteration \u001b[39m+\u001b[39m\u001b[39m=\u001b[39m \u001b[39m1\u001b[39m\n",
      "File \u001b[1;32m~\\AppData\\Local\\Packages\\PythonSoftwareFoundation.Python.3.11_qbz5n2kfra8p0\\LocalCache\\local-packages\\Python311\\site-packages\\pandas\\core\\ops\\common.py:76\u001b[0m, in \u001b[0;36m_unpack_zerodim_and_defer.<locals>.new_method\u001b[1;34m(self, other)\u001b[0m\n\u001b[0;32m     72\u001b[0m             \u001b[39mreturn\u001b[39;00m \u001b[39mNotImplemented\u001b[39m\n\u001b[0;32m     74\u001b[0m other \u001b[39m=\u001b[39m item_from_zerodim(other)\n\u001b[1;32m---> 76\u001b[0m \u001b[39mreturn\u001b[39;00m method(\u001b[39mself\u001b[39;49m, other)\n",
      "File \u001b[1;32m~\\AppData\\Local\\Packages\\PythonSoftwareFoundation.Python.3.11_qbz5n2kfra8p0\\LocalCache\\local-packages\\Python311\\site-packages\\pandas\\core\\arraylike.py:40\u001b[0m, in \u001b[0;36mOpsMixin.__eq__\u001b[1;34m(self, other)\u001b[0m\n\u001b[0;32m     38\u001b[0m \u001b[39m@unpack_zerodim_and_defer\u001b[39m(\u001b[39m\"\u001b[39m\u001b[39m__eq__\u001b[39m\u001b[39m\"\u001b[39m)\n\u001b[0;32m     39\u001b[0m \u001b[39mdef\u001b[39;00m \u001b[39m__eq__\u001b[39m(\u001b[39mself\u001b[39m, other):\n\u001b[1;32m---> 40\u001b[0m     \u001b[39mreturn\u001b[39;00m \u001b[39mself\u001b[39;49m\u001b[39m.\u001b[39;49m_cmp_method(other, operator\u001b[39m.\u001b[39;49meq)\n",
      "File \u001b[1;32m~\\AppData\\Local\\Packages\\PythonSoftwareFoundation.Python.3.11_qbz5n2kfra8p0\\LocalCache\\local-packages\\Python311\\site-packages\\pandas\\core\\series.py:5794\u001b[0m, in \u001b[0;36mSeries._cmp_method\u001b[1;34m(self, other, op)\u001b[0m\n\u001b[0;32m   5791\u001b[0m res_name \u001b[39m=\u001b[39m ops\u001b[39m.\u001b[39mget_op_result_name(\u001b[39mself\u001b[39m, other)\n\u001b[0;32m   5793\u001b[0m \u001b[39mif\u001b[39;00m \u001b[39misinstance\u001b[39m(other, Series) \u001b[39mand\u001b[39;00m \u001b[39mnot\u001b[39;00m \u001b[39mself\u001b[39m\u001b[39m.\u001b[39m_indexed_same(other):\n\u001b[1;32m-> 5794\u001b[0m     \u001b[39mraise\u001b[39;00m \u001b[39mValueError\u001b[39;00m(\u001b[39m\"\u001b[39m\u001b[39mCan only compare identically-labeled Series objects\u001b[39m\u001b[39m\"\u001b[39m)\n\u001b[0;32m   5796\u001b[0m lvalues \u001b[39m=\u001b[39m \u001b[39mself\u001b[39m\u001b[39m.\u001b[39m_values\n\u001b[0;32m   5797\u001b[0m rvalues \u001b[39m=\u001b[39m extract_array(other, extract_numpy\u001b[39m=\u001b[39m\u001b[39mTrue\u001b[39;00m, extract_range\u001b[39m=\u001b[39m\u001b[39mTrue\u001b[39;00m)\n",
      "\u001b[1;31mValueError\u001b[0m: Can only compare identically-labeled Series objects"
     ]
    }
   ],
   "source": [
    "instances = [\"heur049_n_300_m_17695\", \"heur050_n_300_m_19207\", \"heur051_n_300_m_20122\"]\n",
    "problems = dict()\n",
    "heuristics = dict()\n",
    "randomized = dict()\n",
    "vnds = dict()\n",
    "for instance in instances:\n",
    "    curr_problem = Problem(\"data/inst_competition/\" + instance + \".txt\")\n",
    "    problems[instance] = curr_problem\n",
    "    \n",
    "    curr_heuristic = curr_problem.get_heuristic_solution()\n",
    "    heuristics[instance] = curr_heuristic\n",
    "    write_solution(curr_heuristic.get_edges(), instance, \"construction\")\n",
    "    \n",
    "    #curr_randomized = None\n",
    "    #for i in range(2):\n",
    "    #    curr = curr_problem.get_randomized_solution()\n",
    "    #    if (randomized == None) or (curr.get_weight() < curr.get_weight()):\n",
    "    #        randomized = curr\n",
    "    #randomized[instance] = curr_randomized\n",
    "    #write_solution(curr_randomized.get_edges(), instance, \"randomized\")\n",
    "\n",
    "    curr_vnd = vnd(curr_heuristic, [add_edge_neighborhood, remove_edge_neighborhood, extract_node_neighborhood, plex_merge_neighborhood], 2)\n",
    "    vnds[instance] = curr_vnd\n",
    "    write_solution(curr_vnd.get_edges(), instance, \"vnd\")"
   ]
  }
 ],
 "metadata": {
  "kernelspec": {
   "display_name": "Python 3 (ipykernel)",
   "language": "python",
   "name": "python3"
  },
  "language_info": {
   "codemirror_mode": {
    "name": "ipython",
    "version": 3
   },
   "file_extension": ".py",
   "mimetype": "text/x-python",
   "name": "python",
   "nbconvert_exporter": "python",
   "pygments_lexer": "ipython3",
   "version": "3.11.6"
  }
 },
 "nbformat": 4,
 "nbformat_minor": 5
}
