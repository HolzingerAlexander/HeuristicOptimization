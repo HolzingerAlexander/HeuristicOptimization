{
 "cells": [
  {
   "cell_type": "code",
   "execution_count": null,
   "id": "aa161221",
   "metadata": {},
   "outputs": [],
   "source": [
    "import numpy as np\n",
    "import pandas as pd\n",
    "import time\n",
    "import random"
   ]
  },
  {
   "cell_type": "code",
   "execution_count": null,
   "id": "9423883a",
   "metadata": {},
   "outputs": [],
   "source": [
    "# read in meta data\n",
    "problem_instance = \"heur040_n_300_m_13358\"\n",
    "metadata = pd.read_csv(\"data\\inst_tuning\\\\\"+problem_instance +\".txt\", sep=\" \", nrows=1, header=None).iloc[0]\n",
    "s = metadata.iloc[0]\n",
    "n = metadata.iloc[1]\n",
    "m = metadata.iloc[2]\n",
    "l = metadata.iloc[3]\n",
    "\n",
    "n"
   ]
  },
  {
   "cell_type": "code",
   "execution_count": null,
   "id": "3ee911f5",
   "metadata": {},
   "outputs": [],
   "source": [
    "df = pd.read_csv(\"data\\inst_tuning\\heur040_n_300_m_13358.txt\", sep=\" \", skiprows=1, names = [\"n1\", \"n2\", \"e\", \"w\"])\n",
    "df"
   ]
  },
  {
   "cell_type": "code",
   "execution_count": null,
   "id": "2986a0ad",
   "metadata": {},
   "outputs": [],
   "source": [
    "# create nodes data frame\n",
    "nodes_from = df.loc[df[\"e\"]==1][[\"n1\",\"w\"]].groupby(['n1']).sum()\n",
    "nodes_from\n",
    "nodes_to = df.loc[df[\"e\"]==1][[\"n2\",\"w\"]].groupby(['n2']).sum()\n",
    "nodes_to\n",
    "\n",
    "nodes = nodes_from.join(nodes_to, lsuffix='_from', rsuffix='_to', how = 'outer')\n",
    "nodes['node_impact'] = nodes.w_from.fillna(0) + nodes.w_to.fillna(0)\n",
    "nodes = nodes.drop(columns=['w_from', 'w_to'])\n",
    "nodes['current_degree'] = 0\n",
    "nodes['splex'] = nodes.index\n",
    "nodes = nodes.reset_index().rename(columns={\"index\":\"node_number\"})\n",
    "nodes"
   ]
  },
  {
   "cell_type": "code",
   "execution_count": null,
   "id": "46ccc685",
   "metadata": {},
   "outputs": [],
   "source": [
    "# create edges data frame\n",
    "edges = df.copy()\n",
    "edges['w'] = edges['w'] * (1-(edges['e']*2))\n",
    "edges['e'] = 0\n",
    "edges.loc[edges['w'] < 0]"
   ]
  },
  {
   "cell_type": "code",
   "execution_count": null,
   "id": "690aeee4",
   "metadata": {},
   "outputs": [],
   "source": [
    "def is_splex(nodes, plex_number, s) -> bool | pd.DataFrame:\n",
    "    splex = nodes.loc[nodes[\"splex\"] == plex_number]\n",
    "    min_degree = len(splex.index) - s\n",
    "    problem_nodes = splex.loc[splex[\"current_degree\"] < min_degree]\n",
    "    \n",
    "    if len(problem_nodes.index) == 0:\n",
    "        return True\n",
    "    else:\n",
    "        return problem_nodes\n",
    "\n",
    "is_splex(nodes, 2, s)"
   ]
  },
  {
   "cell_type": "code",
   "execution_count": null,
   "id": "b8813955",
   "metadata": {},
   "outputs": [],
   "source": [
    "def construction_heuristic(nodes, edges, s):\n",
    "    start = time.time()\n",
    "    \n",
    "    existing_edges = edges.loc[edges[\"w\"]<0].sort_values(\"w\")\n",
    "    remaining_edges = len(existing_edges) # wozu?\n",
    "\n",
    "    for index, row in existing_edges.iterrows():\n",
    "        # check if this edge was already added, then we can continue to next one\n",
    "        if edges.loc[(edges[\"n1\"]==row[\"n1\"]) & (edges[\"n2\"]==row[\"n2\"]), \"e\"].values[0] == 1:\n",
    "            continue\n",
    "        # get plex assignment of both nodes\n",
    "        n1_plex = nodes.loc[nodes[\"node_number\"]==row[\"n1\"], \"splex\"].values[0]\n",
    "        n2_plex = nodes.loc[nodes[\"node_number\"]==row[\"n2\"], \"splex\"].values[0]\n",
    "        # all nodes that would be in the plex if we merged it\n",
    "        nodes_in_plex = nodes.loc[(nodes[\"splex\"]==n1_plex) | (nodes[\"splex\"] ==n2_plex), \"node_number\"].values\n",
    "        # all edges we would want anyway as they were in original assignment\n",
    "        other_edges_to_add = edges.loc[(edges[\"n1\"].isin(nodes_in_plex)) & \n",
    "                                        (edges[\"n2\"].isin(nodes_in_plex)) & # only edges within the potential splex\n",
    "                                       (edges[\"w\"]<=0) & # that we want to add anyway\n",
    "                                       (edges[\"e\"]==0)] #that have not been added yet\n",
    "\n",
    "        number_of_nodes = len(nodes_in_plex)\n",
    "        edges_missing = False\n",
    "\n",
    "        # check if it would be a valid splex if we merge by checking node degrees\n",
    "        for node in nodes_in_plex:\n",
    "            node_degree = nodes.loc[nodes[\"node_number\"]==node,\"current_degree\"].values[0]\n",
    "            if node_degree < (number_of_nodes - s):\n",
    "                # if we can reach the node degree by only using the edges we want to add anyway, then everything is fine\n",
    "                num_potential_edges = other_edges_to_add.loc[(other_edges_to_add[\"n1\"]==node)|\n",
    "                                                             (other_edges_to_add[\"n2\"]==node)].shape[0]\n",
    "                if num_potential_edges < number_of_nodes - s - node_degree:\n",
    "                    edges_missing = True\n",
    "                    break             \n",
    "\n",
    "        # if it would be a valid splex, actually merge it\n",
    "        if not edges_missing:\n",
    "            # merge them\n",
    "            nodes.loc[nodes[\"splex\"]==n2_plex, \"splex\"] = n1_plex\n",
    "            # include all edges we want to add\n",
    "            for index, oedge in other_edges_to_add.iterrows():\n",
    "                edges.loc[(edges[\"n1\"]==oedge[\"n1\"]) & (edges[\"n2\"]==oedge[\"n2\"]), \"e\"] = 1\n",
    "                # update node info (degree and node impact)\n",
    "                nodes.loc[nodes[\"node_number\"]==oedge[\"n1\"], \"current_degree\"] +=1\n",
    "                nodes.loc[nodes[\"node_number\"]==oedge[\"n2\"], \"current_degree\"] +=1\n",
    "                nodes.loc[nodes[\"node_number\"]==oedge[\"n1\"], \"node_impact\"] -= abs(oedge[\"w\"])\n",
    "                nodes.loc[nodes[\"node_number\"]==oedge[\"n2\"], \"node_impact\"] -= abs(oedge[\"w\"])\n",
    "\n",
    "            remaining_edges -= 1 #wozu?\n",
    "    print(round(time.time()-start, 2), \"seconds\")\n",
    "    return(nodes, edges)"
   ]
  },
  {
   "cell_type": "code",
   "execution_count": null,
   "id": "423168b8",
   "metadata": {},
   "outputs": [],
   "source": [
    "constr_nodes, constr_edges = construction_heuristic(nodes,edges,s)"
   ]
  },
  {
   "cell_type": "code",
   "execution_count": null,
   "id": "314caaca",
   "metadata": {},
   "outputs": [],
   "source": [
    "print(len(constr_nodes[\"splex\"].unique()))\n",
    "constr_nodes"
   ]
  },
  {
   "cell_type": "code",
   "execution_count": null,
   "id": "f70af232",
   "metadata": {},
   "outputs": [],
   "source": [
    "def randomized_greedy(nodes, edges, s, alpha=0.5, random_seed = None):\n",
    "    if random_state not None:\n",
    "        random.seed(random_seed)\n",
    "    start = time.time()\n",
    "    \n",
    "    existing_edges = edges.loc[edges[\"w\"]<0].sort_values(\"w\") # this is our candidate list\n",
    "    \n",
    "    while existing_edges.shape[0]>0:\n",
    "        #build restricted candidate list\n",
    "        costs_threshold = max(existing_edges[\"w\"]) + alpha * (min(existing_edges[\"w\"]) - max(existing_edges[\"w\"]))\n",
    "        rcl = existing_edges.loc[existing_edges[\"w\"]>= costs_threshold]\n",
    "        # pick one edge at random\n",
    "        row = rcl.sample(1)\n",
    "            \n",
    "        # get plex assignment of both nodes\n",
    "        n1_plex = nodes.loc[nodes[\"node_number\"]==row[\"n1\"].values[0], \"splex\"].values[0]\n",
    "        n2_plex = nodes.loc[nodes[\"node_number\"]==row[\"n2\"].values[0], \"splex\"].values[0]\n",
    "        # all nodes that would be in the plex if we merged it\n",
    "        nodes_in_plex = nodes.loc[(nodes[\"splex\"]==n1_plex) | (nodes[\"splex\"] ==n2_plex), \"node_number\"].values\n",
    "        # all edges we would want anyway as they were in original assignment\n",
    "        other_edges_to_add = edges.loc[(edges[\"n1\"].isin(nodes_in_plex)) & \n",
    "                                        (edges[\"n2\"].isin(nodes_in_plex)) & # only edges within the potential splex\n",
    "                                       (edges[\"w\"]<=0) & # that we want to add anyway\n",
    "                                       (edges[\"e\"]==0)] #that have not been added yet\n",
    "\n",
    "        number_of_nodes = len(nodes_in_plex)\n",
    "        edges_missing = False\n",
    "\n",
    "        # check if it would be a valid splex if we merge by checking node degrees\n",
    "        for node in nodes_in_plex:\n",
    "            node_degree = nodes.loc[nodes[\"node_number\"]==node,\"current_degree\"].values[0]\n",
    "            if node_degree < (number_of_nodes - s):\n",
    "                # if we can reach the node degree by only using the edges we want to add anyway, then everything is fine\n",
    "                num_potential_edges = other_edges_to_add.loc[(other_edges_to_add[\"n1\"]==node)|\n",
    "                                                             (other_edges_to_add[\"n2\"]==node)].shape[0]\n",
    "                if num_potential_edges < number_of_nodes - s - node_degree:\n",
    "                    edges_missing = True\n",
    "                    break             \n",
    "\n",
    "        # if it would be a valid splex, actually merge it\n",
    "        if not edges_missing:\n",
    "            # merge them\n",
    "            nodes.loc[nodes[\"splex\"]==n2_plex, \"splex\"] = n1_plex\n",
    "            # include all edges we want to add\n",
    "            for index, oedge in other_edges_to_add.iterrows():\n",
    "                edges.loc[(edges[\"n1\"]==oedge[\"n1\"]) & (edges[\"n2\"]==oedge[\"n2\"]), \"e\"] = 1\n",
    "                # update node info (degree and node impact)\n",
    "                nodes.loc[nodes[\"node_number\"]==oedge[\"n1\"], \"current_degree\"] +=1\n",
    "                nodes.loc[nodes[\"node_number\"]==oedge[\"n2\"], \"current_degree\"] +=1\n",
    "                nodes.loc[nodes[\"node_number\"]==oedge[\"n1\"], \"node_impact\"] -= abs(oedge[\"w\"])\n",
    "                nodes.loc[nodes[\"node_number\"]==oedge[\"n2\"], \"node_impact\"] -= abs(oedge[\"w\"])\n",
    "\n",
    "        # remove the edge from the candidate list\n",
    "        existing_edges = existing_edges.drop(existing_edges[(existing_edges.n1 == row.n1.values[0])&\n",
    "                                                            (existing_edges.n2 == row.n2.values[0])].index)\n",
    "    print(round(time.time()-start, 2), \"seconds\")\n",
    "    return(nodes, edges)"
   ]
  },
  {
   "cell_type": "code",
   "execution_count": null,
   "id": "77e64c89",
   "metadata": {},
   "outputs": [],
   "source": [
    "rand_nodes, rand_edges = randomized_greedy(nodes, edges, s, alpha = 0.75)"
   ]
  },
  {
   "cell_type": "code",
   "execution_count": null,
   "id": "13d376d3",
   "metadata": {},
   "outputs": [],
   "source": [
    "print(len(rand_nodes[\"splex\"].unique()))\n",
    "rand_nodes"
   ]
  },
  {
   "cell_type": "code",
   "execution_count": null,
   "id": "2c62a91b",
   "metadata": {},
   "outputs": [],
   "source": [
    "final_solution = edges.loc[((edges[\"e\"]==0)&(edges[\"w\"]<=0))|\n",
    "                           ((edges[\"e\"]==1)&(edges[\"w\"]>0)), [\"n1\", \"n2\"]]\n",
    "\n",
    "header = problem_instance + '\\n' + final_solution.to_string(header=False, index=False, index_names=False, justify='left', col_space=1)\n",
    "\n",
    "# Save the combined string to a text file\n",
    "with open(\"output/\"+problem_instance+\".txt\", 'w') as file:\n",
    "    file.write(header)"
   ]
  }
 ],
 "metadata": {
  "kernelspec": {
   "display_name": "Python 3 (ipykernel)",
   "language": "python",
   "name": "python3"
  },
  "language_info": {
   "codemirror_mode": {
    "name": "ipython",
    "version": 3
   },
   "file_extension": ".py",
   "mimetype": "text/x-python",
   "name": "python",
   "nbconvert_exporter": "python",
   "pygments_lexer": "ipython3",
   "version": "3.11.5"
  }
 },
 "nbformat": 4,
 "nbformat_minor": 5
}
