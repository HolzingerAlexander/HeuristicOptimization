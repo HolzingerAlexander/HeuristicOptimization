{
 "cells": [
  {
   "cell_type": "code",
   "execution_count": null,
   "id": "aa161221",
   "metadata": {},
   "outputs": [],
   "source": [
    "import numpy as np\n",
    "import pandas as pd"
   ]
  },
  {
   "cell_type": "code",
   "execution_count": null,
   "id": "9423883a",
   "metadata": {},
   "outputs": [],
   "source": [
    "# read in meta data\n",
    "metadata = pd.read_csv(\"data\\inst_tuning\\heur040_n_300_m_13358.txt\", sep=\" \", nrows=1, header=None).iloc[0]\n",
    "s = metadata.iloc[0]\n",
    "n = metadata.iloc[1]\n",
    "m = metadata.iloc[2]\n",
    "l = metadata.iloc[3]\n",
    "\n",
    "n"
   ]
  },
  {
   "cell_type": "code",
   "execution_count": null,
   "id": "3ee911f5",
   "metadata": {},
   "outputs": [],
   "source": [
    "df = pd.read_csv(\"data\\inst_tuning\\heur040_n_300_m_13358.txt\", sep=\" \", skiprows=1, names = [\"n1\", \"n2\", \"e\", \"w\"])\n",
    "df"
   ]
  },
  {
   "cell_type": "code",
   "execution_count": null,
   "id": "2986a0ad",
   "metadata": {},
   "outputs": [],
   "source": [
    "# create nodes data frame\n",
    "nodes_from = df.loc[df[\"e\"]==1][[\"n1\",\"w\"]].groupby(['n1']).sum()\n",
    "nodes_from\n",
    "nodes_to = df.loc[df[\"e\"]==1][[\"n2\",\"w\"]].groupby(['n2']).sum()\n",
    "nodes_to\n",
    "\n",
    "nodes = nodes_from.join(nodes_to, lsuffix='_from', rsuffix='_to', how = 'outer')\n",
    "nodes['node_impact'] = nodes.w_from.fillna(0) + nodes.w_to.fillna(0)\n",
    "nodes = nodes.drop(columns=['w_from', 'w_to'])\n",
    "nodes['current_degree'] = 0\n",
    "nodes['splex'] = nodes.index\n",
    "nodes"
   ]
  },
  {
   "cell_type": "code",
   "execution_count": null,
   "id": "46ccc685",
   "metadata": {},
   "outputs": [],
   "source": [
    "edges = df\n",
    "edges['w'] = edges['w'] * (1-(edges['e']*2))\n",
    "edges['e'] = 0\n",
    "edges.loc[edges['w'] < 0]"
   ]
  },
  {
   "cell_type": "code",
   "execution_count": null,
   "id": "690aeee4",
   "metadata": {},
   "outputs": [],
   "source": [
    "def is_splex(nodes, plex_number, s) -> bool | pd.DataFrame:\n",
    "    splex = nodes.loc[nodes[\"splex\"] == plex_number]\n",
    "    min_degree = len(splex.index) - s\n",
    "    problem_nodes = splex.loc[splex[\"current_degree\"] < min_degree]\n",
    "    \n",
    "    if len(problem_nodes.index) == 0:\n",
    "        return True\n",
    "    else:\n",
    "        return problem_nodes\n",
    "\n",
    "is_splex(nodes, 2, 1)"
   ]
  }
 ],
 "metadata": {
  "kernelspec": {
   "display_name": "Python 3 (ipykernel)",
   "language": "python",
   "name": "python3"
  },
  "language_info": {
   "codemirror_mode": {
    "name": "ipython",
    "version": 3
   },
   "file_extension": ".py",
   "mimetype": "text/x-python",
   "name": "python",
   "nbconvert_exporter": "python",
   "pygments_lexer": "ipython3",
   "version": "3.11.5"
  }
 },
 "nbformat": 4,
 "nbformat_minor": 5
}
