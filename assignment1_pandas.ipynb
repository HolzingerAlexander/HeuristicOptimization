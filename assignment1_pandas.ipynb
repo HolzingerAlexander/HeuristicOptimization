{
 "cells": [
  {
   "cell_type": "code",
   "execution_count": null,
   "id": "aa161221",
   "metadata": {},
   "outputs": [],
   "source": [
    "import numpy as np\n",
    "import pandas as pd\n",
    "import time\n",
    "import random\n",
    "from helper_functions import *"
   ]
  },
  {
   "cell_type": "code",
   "execution_count": null,
   "id": "61b841bf",
   "metadata": {},
   "outputs": [],
   "source": [
    "#problem_instance = \"inst_tuning\\heur040_n_300_m_13358\"\n",
    "instance_type = \"test_instances/\" #\"inst_competition/\" #\"inst_tuning/\" # \n",
    "problem_instance = \"heur002_n_100_m_3274\" #\"heur040_n_300_m_13358\" #\"heur001_n_10_m_31\" \n",
    "path = \"data/\"+instance_type + problem_instance +\".txt\""
   ]
  },
  {
   "cell_type": "code",
   "execution_count": null,
   "id": "d93516d5",
   "metadata": {},
   "outputs": [],
   "source": [
    "nodes, edges, s = create_problem_instance(path)\n",
    "is_splex(nodes = nodes, plex_number = 2, s=s)"
   ]
  },
  {
   "cell_type": "markdown",
   "id": "192f4db1",
   "metadata": {},
   "source": [
    "# Construction heuristic"
   ]
  },
  {
   "cell_type": "code",
   "execution_count": null,
   "id": "89c4cb1c",
   "metadata": {},
   "outputs": [],
   "source": [
    "constr_nodes, constr_edges, constr_score = construction_heuristic(nodes,edges,s)\n",
    "print(\"number of plexes: \"+ str(len(constr_nodes[\"splex\"].unique())))\n",
    "print(\"score: \" +str(constr_score))\n",
    "print(constr_edges)"
   ]
  },
  {
   "cell_type": "markdown",
   "id": "c483330b",
   "metadata": {},
   "source": [
    "# Randomized Construction heuristic"
   ]
  },
  {
   "cell_type": "code",
   "execution_count": null,
   "id": "2c5e584d",
   "metadata": {},
   "outputs": [],
   "source": [
    "rand_nodes, rand_edges, rand_score = randomized_greedy(nodes, edges, s, alpha = 0.75)\n",
    "print(\"number of plexes: \"+ str(len(rand_nodes[\"splex\"].unique())))\n",
    "print(\"score: \" +str(rand_score))"
   ]
  },
  {
   "cell_type": "markdown",
   "id": "fbeec1e4",
   "metadata": {},
   "source": [
    "# extract 1 node neighborhood"
   ]
  },
  {
   "cell_type": "code",
   "execution_count": null,
   "id": "1c49dca1",
   "metadata": {},
   "outputs": [],
   "source": [
    "extract_nodes, extract_edges, extract_score = extract1node(constr_nodes, constr_edges, constr_score, s, step = \"best\")\n",
    "print(\"number of plexes: \"+ str(len(extract_nodes[\"splex\"].unique())))\n",
    "print(\"score: \" +str(extract_score))"
   ]
  },
  {
   "cell_type": "markdown",
   "id": "b6a6c73e",
   "metadata": {},
   "source": [
    "# merge 2 plexes neighborhood"
   ]
  },
  {
   "cell_type": "code",
   "execution_count": null,
   "id": "71416818",
   "metadata": {},
   "outputs": [],
   "source": [
    "merged_nodes, merged_edges, merged_score = merge2plexes(constr_nodes, constr_edges, constr_score, s, \n",
    "                                                        step = \"best\", add_neg_edges = True)\n",
    "print(\"number of plexes: \"+ str(len(merged_nodes[\"splex\"].unique())))\n",
    "print(\"score: \" +str(merged_score))\n"
   ]
  },
  {
   "cell_type": "code",
   "execution_count": null,
   "id": "dabb2549",
   "metadata": {},
   "outputs": [],
   "source": [
    "merged_nodes2, merged_edges2, merged_score2 = merge2plexes(constr_nodes, constr_edges, constr_score, s, \n",
    "                                                        step = \"best\", add_neg_edges = False)\n",
    "print(\"number of plexes: \"+ str(len(merged_nodes2[\"splex\"].unique())))\n",
    "print(\"score: \" +str(merged_score2))"
   ]
  },
  {
   "cell_type": "markdown",
   "id": "044ab684",
   "metadata": {},
   "source": [
    "## do it again on the new best solution"
   ]
  },
  {
   "cell_type": "code",
   "execution_count": null,
   "id": "a8b38d10",
   "metadata": {},
   "outputs": [],
   "source": [
    "merged_nodes3, merged_edges3, merged_score3 = merge2plexes(merged_nodes, merged_edges, merged_score, s, step = \"best\")\n",
    "print(\"number of plexes: \"+ str(len(merged_nodes2[\"splex\"].unique())))\n",
    "print(\"score: \" +str(merged_score2))"
   ]
  },
  {
   "cell_type": "markdown",
   "id": "63f6758f",
   "metadata": {},
   "source": [
    "# einmal alles (mit scharf)"
   ]
  },
  {
   "cell_type": "code",
   "execution_count": null,
   "id": "ca02b787",
   "metadata": {},
   "outputs": [],
   "source": [
    "instance_type = \"inst_competition/\"#\"test_instances/\" #\"inst_competition/\" #\"inst_tuning/\" # \n",
    "problem_instance = \"heur051_n_300_m_20122\" #\"heur040_n_300_m_13358\" #\"heur001_n_10_m_31\" \n",
    "path = \"data/\"+instance_type + problem_instance +\".txt\"\n",
    "nodes, edges, s = create_problem_instance(path)\n",
    "print(edges)\n",
    "constr_nodes, constr_edges, constr_score = construction_heuristic(nodes, edges, s)\n",
    "write_solution(constr_edges, problem_instance, algorithm = \"construction\")\n",
    "print(constr_edges)"
   ]
  },
  {
   "cell_type": "code",
   "execution_count": null,
   "id": "30dbf939",
   "metadata": {},
   "outputs": [],
   "source": [
    "def vnd(solution: Solution, neighborhoods: list[Neighborhood]) -> Solution:\n",
    "    current_best: Solution = solution\n",
    "    best_objective: int = current_best.get_objective()\n",
    "    \n",
    "    i = 0 # First neighborhood\n",
    "    while i < len(neighborhoods):\n",
    "        current_neighborhood = neighborhoods\n",
    "\n",
    "        best_in_neighborhood: int = None\n",
    "        best_definition = None\n",
    "        neighbor_definitions: list = current_neighborhood.get_all_neighbors()\n",
    "        for definition in neighbor_definitions:\n",
    "            current_objective: int = current_neighborhood.get_objective(current_best, definition)\n",
    "            if (best_in_neighborhood == None) or (current_objective < best_in_neighborhood):\n",
    "                best_in_neighborhood = current_objective\n",
    "                best_definition = definition\n",
    "\n",
    "        if best_in_neighborhood < best_objective:\n",
    "            current_best = current_neighborhood.get_solution(current_best, best_definition)\n",
    "            i = 0\n",
    "        else:\n",
    "            i += 1\n",
    "\n",
    "    return current_best\n",
    "\n",
    "def local_search(solution: Solution, neighborhood: Neighborhood):\n",
    "    best_solution: Solution = solution\n",
    "    best_objective: int = None\n",
    "\n",
    "    neighbor_definitions: list = neighborhood.get_all_neighbors()\n",
    "    for definition in neighbor_definitions:\n",
    "        current_objective: int = neighborhood.get_objective(solution, definition)\n",
    "\n",
    "        if (best_objective == None) or (current_objective < best_objective):\n",
    "            best_objective = current_objective\n",
    "            best_solution = neighborhood.get_solution(solution, definition)\n",
    "\n",
    "    return best_solution\n",
    "\n",
    "def grasp(problem: Problem, neighborhood: Neighborhood) -> Solution:\n",
    "    best_solution: Solution = None\n",
    "    for i in range(20):\n",
    "        current_solution = problem.get_randomized_solution()\n",
    "        local_optimum = local_search(current_solution, neighborhood)\n",
    "        if (best_solution == None) or (local_optimum.get_objective() < best_solution.get_objective()):\n",
    "            best_solution = local_optimum\n",
    "    \n",
    "    return best_solution\n",
    "\n"
   ]
  },
  {
   "cell_type": "code",
   "execution_count": null,
   "metadata": {},
   "outputs": [],
   "source": [
    "from typing import Callable\n",
    "\n",
    "problem = Problem(path)\n",
    "first_improvement: Callable[[Solution], Solution] = lambda sol: merge2plexes(sol.get_nodes(), sol.get_edges(), sol.get_weight(), sol.get_s(), step=\"first\")\n",
    "best_improvement: Callable[[Solution], Solution] = lambda sol: merge2plexes(sol.get_nodes(), sol.get_edges(), sol.get_weight(), sol.get_s(), step=\"best\")\n",
    "random_improvement: Callable[[Solution], Solution] = lambda sol: merge2plexes(sol.get_nodes(), sol.get_edges(), sol.get_weight(), sol.get_s(), step=\"random\")\n",
    "\n",
    "neighborhood = Neighborhood(first_improvement, best_improvement, random_improvement)\n",
    "inital_solution = problem.get_heuristic_solution()\n",
    "local_best = neighborhood.get_best_improvement(inital_solution)\n",
    "print(inital_solution.get_weight())\n",
    "print(local_best.get_weight())"
   ]
  }
 ],
 "metadata": {
  "kernelspec": {
   "display_name": "Python 3 (ipykernel)",
   "language": "python",
   "name": "python3"
  },
  "language_info": {
   "codemirror_mode": {
    "name": "ipython",
    "version": 3
   },
   "file_extension": ".py",
   "mimetype": "text/x-python",
   "name": "python",
   "nbconvert_exporter": "python",
   "pygments_lexer": "ipython3",
   "version": "3.11.6"
  }
 },
 "nbformat": 4,
 "nbformat_minor": 5
}
