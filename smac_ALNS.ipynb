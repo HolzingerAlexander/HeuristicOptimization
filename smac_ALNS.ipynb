{
 "cells": [
  {
   "cell_type": "code",
   "execution_count": 1,
   "metadata": {},
   "outputs": [
    {
     "name": "stdout",
     "output_type": "stream",
     "text": [
      "time_limit\n",
      "heur042_n_300_m_5764: 7272.0\n"
     ]
    },
    {
     "ename": "KeyboardInterrupt",
     "evalue": "",
     "output_type": "error",
     "traceback": [
      "\u001b[1;31m---------------------------------------------------------------------------\u001b[0m",
      "\u001b[1;31mKeyboardInterrupt\u001b[0m                         Traceback (most recent call last)",
      "Cell \u001b[1;32mIn[1], line 25\u001b[0m\n\u001b[0;32m     22\u001b[0m repair_solution(node_impact, node_degree, plex_assignment, edge_weights, edge_assignment, s)\n\u001b[0;32m     23\u001b[0m number_of_phases \u001b[38;5;241m=\u001b[39m \u001b[38;5;28mround\u001b[39m(\u001b[38;5;241m4000\u001b[39m \u001b[38;5;241m/\u001b[39m iterations_per_phase)\n\u001b[1;32m---> 25\u001b[0m _, _, _, _, score \u001b[38;5;241m=\u001b[39m \u001b[43mALNS\u001b[49m\u001b[43m(\u001b[49m\u001b[43mmin_weight\u001b[49m\u001b[43m,\u001b[49m\u001b[43m \u001b[49m\u001b[43mreaction_factor\u001b[49m\u001b[43m,\u001b[49m\u001b[43m \u001b[49m\u001b[43miterations_per_phase\u001b[49m\u001b[43m,\u001b[49m\u001b[43m \u001b[49m\u001b[43mnumber_of_phases\u001b[49m\u001b[43m,\u001b[49m\u001b[43m \u001b[49m\u001b[43mnode_impact\u001b[49m\u001b[43m,\u001b[49m\u001b[43m \u001b[49m\u001b[43mnode_degree\u001b[49m\u001b[43m,\u001b[49m\u001b[43m \u001b[49m\u001b[43medge_assignment\u001b[49m\u001b[43m,\u001b[49m\u001b[43m \u001b[49m\u001b[43medge_weights\u001b[49m\u001b[43m,\u001b[49m\u001b[43m \u001b[49m\u001b[43mplex_assignment\u001b[49m\u001b[43m,\u001b[49m\u001b[43m \u001b[49m\u001b[43ms\u001b[49m\u001b[43m)\u001b[49m\n\u001b[0;32m     27\u001b[0m \u001b[38;5;28mprint\u001b[39m(instance \u001b[38;5;241m+\u001b[39m \u001b[38;5;124m\"\u001b[39m\u001b[38;5;124m: \u001b[39m\u001b[38;5;124m\"\u001b[39m \u001b[38;5;241m+\u001b[39m \u001b[38;5;28mstr\u001b[39m(score))\n",
      "File \u001b[1;32mc:\\Users\\alexa\\OneDrive\\Dokumente\\Heuristic Optimization\\HeuristicOptimization\\helper_functions_assignment2.py:616\u001b[0m, in \u001b[0;36mALNS\u001b[1;34m(min_weight, reaction_factor, iterations_per_phase, number_of_phases, node_impact, node_degree, edge_assignment, edge_weights, plex_assignment, s)\u001b[0m\n\u001b[0;32m    613\u001b[0m node_impact_new \u001b[38;5;241m=\u001b[39m node_impact\u001b[38;5;241m.\u001b[39mcopy()\n\u001b[0;32m    614\u001b[0m node_degree_new \u001b[38;5;241m=\u001b[39m node_degree\u001b[38;5;241m.\u001b[39mcopy()\n\u001b[1;32m--> 616\u001b[0m _, _, removed_nodes \u001b[38;5;241m=\u001b[39m \u001b[43mdestroy_methods\u001b[49m\u001b[43m[\u001b[49m\u001b[43mdestroy_idx\u001b[49m\u001b[43m]\u001b[49m\u001b[43m(\u001b[49m\u001b[43mplex_assignment_new\u001b[49m\u001b[43m,\u001b[49m\u001b[43m \u001b[49m\u001b[43medge_assignment_new\u001b[49m\u001b[43m,\u001b[49m\u001b[43m \u001b[49m\u001b[43mn\u001b[49m\u001b[43m,\u001b[49m\u001b[43m \u001b[49m\u001b[43mnode_impact_new\u001b[49m\u001b[43m,\u001b[49m\u001b[43m \u001b[49m\u001b[43mnode_degree_new\u001b[49m\u001b[43m,\u001b[49m\u001b[43m \u001b[49m\u001b[43medge_weights\u001b[49m\u001b[43m)\u001b[49m\n\u001b[0;32m    618\u001b[0m _, _ \u001b[38;5;241m=\u001b[39m repair_methods[repair_idx](plex_assignment_new, edge_assignment_new, n, removed_nodes, node_impact_new, node_degree_new, edge_weights, s)\n\u001b[0;32m    620\u001b[0m new_score \u001b[38;5;241m=\u001b[39m \u001b[38;5;28msum\u001b[39m(node_impact_new)\u001b[38;5;241m/\u001b[39m\u001b[38;5;241m2\u001b[39m\n",
      "File \u001b[1;32mc:\\Users\\alexa\\OneDrive\\Dokumente\\Heuristic Optimization\\HeuristicOptimization\\helper_functions_assignment2.py:434\u001b[0m, in \u001b[0;36mremove_most_edges_node\u001b[1;34m(plex_assignment, edge_assignment, n, node_impact, node_degree, edge_weights)\u001b[0m\n\u001b[0;32m    432\u001b[0m highest_edge_count \u001b[38;5;241m=\u001b[39m \u001b[38;5;241m-\u001b[39m\u001b[38;5;241m1\u001b[39m\n\u001b[0;32m    433\u001b[0m \u001b[38;5;28;01mfor\u001b[39;00m a \u001b[38;5;129;01min\u001b[39;00m \u001b[38;5;28mrange\u001b[39m(\u001b[38;5;241m1\u001b[39m, n):\n\u001b[1;32m--> 434\u001b[0m     edge_indices \u001b[38;5;241m=\u001b[39m \u001b[43mnp\u001b[49m\u001b[38;5;241;43m.\u001b[39;49m\u001b[43mfromiter\u001b[49m\u001b[43m(\u001b[49m\u001b[43m(\u001b[49m\u001b[43mget_edge_index\u001b[49m\u001b[43m(\u001b[49m\u001b[43ma\u001b[49m\u001b[43m,\u001b[49m\u001b[43m \u001b[49m\u001b[43mb\u001b[49m\u001b[43m,\u001b[49m\u001b[43m \u001b[49m\u001b[43mn\u001b[49m\u001b[43m)\u001b[49m\u001b[43m \u001b[49m\u001b[38;5;28;43;01mfor\u001b[39;49;00m\u001b[43m \u001b[49m\u001b[43mb\u001b[49m\u001b[43m \u001b[49m\u001b[38;5;129;43;01min\u001b[39;49;00m\u001b[43m \u001b[49m\u001b[38;5;28;43mrange\u001b[39;49m\u001b[43m(\u001b[49m\u001b[38;5;241;43m1\u001b[39;49m\u001b[43m,\u001b[49m\u001b[43m \u001b[49m\u001b[43mn\u001b[49m\u001b[43m)\u001b[49m\u001b[43m \u001b[49m\u001b[38;5;28;43;01mif\u001b[39;49;00m\u001b[43m \u001b[49m\u001b[43mb\u001b[49m\u001b[43m \u001b[49m\u001b[38;5;241;43m!=\u001b[39;49m\u001b[43m \u001b[49m\u001b[43ma\u001b[49m\u001b[43m)\u001b[49m\u001b[43m,\u001b[49m\u001b[43m \u001b[49m\n\u001b[0;32m    435\u001b[0m \u001b[43m                            \u001b[49m\u001b[43mplex_assignment\u001b[49m\u001b[38;5;241;43m.\u001b[39;49m\u001b[43mdtype\u001b[49m\u001b[43m)\u001b[49m\n\u001b[0;32m    437\u001b[0m     edges \u001b[38;5;241m=\u001b[39m edge_assignment[edge_indices]\u001b[38;5;241m.\u001b[39msum()\n\u001b[0;32m    439\u001b[0m     \u001b[38;5;28;01mif\u001b[39;00m edges \u001b[38;5;241m>\u001b[39m highest_edge_count:\n",
      "File \u001b[1;32mc:\\Users\\alexa\\OneDrive\\Dokumente\\Heuristic Optimization\\HeuristicOptimization\\helper_functions_assignment2.py:434\u001b[0m, in \u001b[0;36m<genexpr>\u001b[1;34m(.0)\u001b[0m\n\u001b[0;32m    432\u001b[0m highest_edge_count \u001b[38;5;241m=\u001b[39m \u001b[38;5;241m-\u001b[39m\u001b[38;5;241m1\u001b[39m\n\u001b[0;32m    433\u001b[0m \u001b[38;5;28;01mfor\u001b[39;00m a \u001b[38;5;129;01min\u001b[39;00m \u001b[38;5;28mrange\u001b[39m(\u001b[38;5;241m1\u001b[39m, n):\n\u001b[1;32m--> 434\u001b[0m     edge_indices \u001b[38;5;241m=\u001b[39m np\u001b[38;5;241m.\u001b[39mfromiter((get_edge_index(a, b, n) \u001b[38;5;28;01mfor\u001b[39;00m b \u001b[38;5;129;01min\u001b[39;00m \u001b[38;5;28mrange\u001b[39m(\u001b[38;5;241m1\u001b[39m, n) \u001b[38;5;28;01mif\u001b[39;00m b \u001b[38;5;241m!=\u001b[39m a), \n\u001b[0;32m    435\u001b[0m                             plex_assignment\u001b[38;5;241m.\u001b[39mdtype)\n\u001b[0;32m    437\u001b[0m     edges \u001b[38;5;241m=\u001b[39m edge_assignment[edge_indices]\u001b[38;5;241m.\u001b[39msum()\n\u001b[0;32m    439\u001b[0m     \u001b[38;5;28;01mif\u001b[39;00m edges \u001b[38;5;241m>\u001b[39m highest_edge_count:\n",
      "\u001b[1;31mKeyboardInterrupt\u001b[0m: "
     ]
    }
   ],
   "source": [
    "import numpy as np\n",
    "import pandas as pd\n",
    "import time\n",
    "import sys\n",
    "import random\n",
    "from helper_functions_assignment2 import*\n",
    "\n",
    "tuning_instances = [\"heur040_n_300_m_13358\", \"heur041_n_300_m_17492\", \"heur042_n_300_m_5764\", \"heur043_n_300_m_12914\",\n",
    "                    \"heur044_n_300_m_3234\", \"heur045_n_300_m_6293\", \"heur046_n_300_m_13150\", \"heur047_n_300_m_20096\",\n",
    "                    \"heur048_n_300_m_14666\", \"heur052_n_300_m_26628\", \"heur053_n_300_m_39861\", \"heur054_n_300_m_2746\",\n",
    "                    \"heur055_n_300_m_5164\", \"heur056_n_300_m_12131\", \"heur057_n_300_m_2109\", \"heur058_n_300_m_4010\",\n",
    "                    \"heur059_n_300_m_7867\", \"heur060_n_300_m_12405\"]\n",
    "\n",
    "min_weight = 0.05 # 0.01 - 0.25\n",
    "reaction_factor = 0.1 # 0.01 - 1\n",
    "iterations_per_phase = 10 # 5 - 200\n",
    "\n",
    "for instance in tuning_instances:\n",
    "    path = \"data/inst_tuning/\" + instance +\".txt\"\n",
    "    node_impact, node_degree, plex_assignment, edges_n1, edges_n2, edge_weights, edge_assignment, s, n, m = create_problem_instance(path)\n",
    "    plex_assignment = np.random.choice(10, n)\n",
    "    repair_solution(node_impact, node_degree, plex_assignment, edge_weights, edge_assignment, s)\n",
    "    number_of_phases = round(4000 / iterations_per_phase)\n",
    "    \n",
    "    _, _, _, _, score = ALNS(min_weight, reaction_factor, iterations_per_phase, number_of_phases, node_impact, node_degree, edge_assignment, edge_weights, plex_assignment, s)\n",
    "    \n",
    "    print(instance + \": \" + str(score))\n"
   ]
  }
 ],
 "metadata": {
  "kernelspec": {
   "display_name": "Python 3",
   "language": "python",
   "name": "python3"
  },
  "language_info": {
   "codemirror_mode": {
    "name": "ipython",
    "version": 3
   },
   "file_extension": ".py",
   "mimetype": "text/x-python",
   "name": "python",
   "nbconvert_exporter": "python",
   "pygments_lexer": "ipython3",
   "version": "3.11.7"
  }
 },
 "nbformat": 4,
 "nbformat_minor": 2
}
