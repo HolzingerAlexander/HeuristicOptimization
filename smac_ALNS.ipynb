{
 "cells": [
  {
   "cell_type": "code",
   "execution_count": 3,
   "metadata": {},
   "outputs": [
    {
     "name": "stdout",
     "output_type": "stream",
     "text": [
      "heur040_n_300_m_13358: 38997.0\n"
     ]
    }
   ],
   "source": [
    "import numpy as np\n",
    "import pandas as pd\n",
    "import time\n",
    "import sys\n",
    "import random\n",
    "from helper_functions_assignment2 import*\n",
    "\n",
    "tuning_instances = [\"heur040_n_300_m_13358\", \"heur041_n_300_m_17492\", \"heur042_n_300_m_5764\", \"heur043_n_300_m_12914\",\n",
    "                    \"heur044_n_300_m_3234\", \"heur045_n_300_m_6293\", \"heur046_n_300_m_13150\", \"heur047_n_300_m_20096\",\n",
    "                    \"heur048_n_300_m_14666\", \"heur052_n_300_m_26628\", \"heur053_n_300_m_39861\", \"heur054_n_300_m_2746\",\n",
    "                    \"heur055_n_300_m_5164\", \"heur056_n_300_m_12131\", \"heur057_n_300_m_2109\", \"heur058_n_300_m_4010\",\n",
    "                    \"heur059_n_300_m_7867\", \"heur060_n_300_m_12405\"]\n",
    "\n",
    "min_weight = 0.05 # 0.01 - 0.25\n",
    "reaction_factor = 0.1 # 0.01 - 1\n",
    "iterations_per_phase = 10 # 5 - 200\n",
    "\n",
    "for instance in tuning_instances:\n",
    "    path = \"data/inst_tuning/\" + instance +\".txt\"\n",
    "    node_impact, node_degree, plex_assignment, edges_n1, edges_n2, edge_weights, edge_assignment, s, n, m = create_problem_instance(path)\n",
    "    plex_assignment = np.random.choice(10, n)\n",
    "    #repair_solution(node_impact, node_degree, plex_assignment, edge_weights, edge_assignment, s)\n",
    "    number_of_phases = round(4000 / iterations_per_phase)\n",
    "    \n",
    "    _, _, _, _, score = ALNS(min_weight, reaction_factor, iterations_per_phase, number_of_phases, node_impact, node_degree, edge_assignment, edge_weights, plex_assignment, s)\n",
    "    \n",
    "    print(instance + \": \" + str(score))\n"
   ]
  }
 ],
 "metadata": {
  "kernelspec": {
   "display_name": "Python 3",
   "language": "python",
   "name": "python3"
  },
  "language_info": {
   "codemirror_mode": {
    "name": "ipython",
    "version": 3
   },
   "file_extension": ".py",
   "mimetype": "text/x-python",
   "name": "python",
   "nbconvert_exporter": "python",
   "pygments_lexer": "ipython3",
   "version": "3.11.7"
  }
 },
 "nbformat": 4,
 "nbformat_minor": 2
}
