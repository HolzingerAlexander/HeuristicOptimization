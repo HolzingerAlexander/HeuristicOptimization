{
 "cells": [
  {
   "cell_type": "code",
   "execution_count": 19,
   "id": "47f3a518",
   "metadata": {},
   "outputs": [],
   "source": [
    "import numpy as np\n",
    "import pandas as pd\n",
    "import time\n",
    "import random\n",
    "import math\n",
    "import os\n",
    "import re\n",
    "import json\n",
    "import ast\n",
    "import matplotlib.pyplot as plt\n",
    "from helper_functions_assignment2 import*"
   ]
  },
  {
   "cell_type": "markdown",
   "id": "2e30e591",
   "metadata": {},
   "source": [
    "## statistical tests"
   ]
  },
  {
   "cell_type": "code",
   "execution_count": 9,
   "id": "3f8e2c61",
   "metadata": {},
   "outputs": [],
   "source": [
    "# scipy contains statistical tests and other useful content\n",
    "import scipy.stats\n",
    "from scipy.stats import norm\n",
    "\n",
    "def print_decision(pvalue, alpha):\n",
    "    print(\"Test Result:\")\n",
    "    print(\"p-value = %.4f\" % (pvalue))\n",
    "    if pvalue < alpha:\n",
    "        print(\"H0 can be rejected on a level of significance of \" + str(alpha) + \".\")\n",
    "    else:\n",
    "        print(\"H0 cannot be rejected on a level of significance of \" + str(alpha) + \".\")\n",
    "        \n",
    "def compute_pvalue(pvalue, diff, alternative):\n",
    "    if alternative == \"greater\":\n",
    "        if diff > 0:\n",
    "            pvalue = pvalue / 2\n",
    "        else:\n",
    "            pvalue = 1 - pvalue / 2\n",
    "    elif alternative == \"less\":\n",
    "        if diff < 0:\n",
    "            pvalue = pvalue / 2\n",
    "        else:\n",
    "            pvalue = 1 - pvalue / 2\n",
    "    return pvalue\n",
    "\n",
    "def plot_hist(data, group):\n",
    "    # Plot a histogram\n",
    "    plt.hist(data, density = True, alpha = 0.5)\n",
    "\n",
    "    # Fit a normal distribution to the data\n",
    "    mu, std = norm.fit(data)\n",
    "\n",
    "    # Plot the probability density function\n",
    "    xmin, xmax = plt.xlim()\n",
    "    x = np.linspace(xmin, xmax, 201)\n",
    "    y = norm.pdf(x, mu, std)\n",
    "    plt.plot(x, y, \"black\")\n",
    "    title = \"Fit results of \" + group + \": mu = %.2f,  std = %.2f\" % (mu, std)\n",
    "    plt.title(title)\n",
    "\n",
    "    plt.show()"
   ]
  },
  {
   "cell_type": "code",
   "execution_count": 14,
   "id": "c87c0d0b",
   "metadata": {},
   "outputs": [],
   "source": [
    "# Parameters for data import to be set\n",
    "file_A = \"GA_test_results.csv\"\n",
    "file_B = \"GA_test_results.csv\"\n",
    "name_A = \"baseline\"\n",
    "name_B = \"score\"\n",
    "\n",
    "# Parameters for the tests to be set\n",
    "alternative = \"two-sided\"\n",
    "alpha = 0.05"
   ]
  },
  {
   "cell_type": "code",
   "execution_count": 23,
   "id": "e56170da",
   "metadata": {},
   "outputs": [
    {
     "name": "stdout",
     "output_type": "stream",
     "text": [
      "mean score of A 33626.48717948718\n",
      "mean score of B 21116.333333333332\n"
     ]
    }
   ],
   "source": [
    "df_A = pd.read_csv(file_A, sep = \";\", decimal = \".\", usecols = [name_A])\n",
    "df_B = pd.read_csv(file_B, sep = \";\", decimal = \".\", usecols = [name_B])\n",
    "\n",
    "data_A = df_A[name_A]\n",
    "data_B = df_B[name_B]\n",
    "print(\"mean score of A\", np.mean(data_A))\n",
    "print(\"mean score of B\", np.mean(data_B))"
   ]
  },
  {
   "cell_type": "code",
   "execution_count": 16,
   "id": "5137c7f8",
   "metadata": {},
   "outputs": [
    {
     "data": {
      "image/png": "[encoded data removed]",
      "text/plain": [
       "<Figure size 640x480 with 1 Axes>"
      ]
     },
     "metadata": {},
     "output_type": "display_data"
    }
   ],
   "source": [
    "plot_hist(data_A - data_B, \"difference\")"
   ]
  },
  {
   "cell_type": "code",
   "execution_count": null,
   "id": "46bb5b2b",
   "metadata": {},
   "outputs": [],
   "source": [
    "## t-test if applicable"
   ]
  },
  {
   "cell_type": "code",
   "execution_count": null,
   "id": "5bdba25a",
   "metadata": {},
   "outputs": [],
   "source": [
    "# Apply the statistical test\n",
    "res = scipy.stats.ttest_rel(data_A, data_B)\n",
    "pvalue = res.pvalue\n",
    "\n",
    "# Compute the correct p-value (two-sided vs. one-sided)\n",
    "pvalue = compute_pvalue(res.pvalue, np.mean(data_A) - np.mean(data_B), alternative)\n",
    "\n",
    "# Print results\n",
    "print_decision(pvalue, alpha)"
   ]
  },
  {
   "cell_type": "code",
   "execution_count": null,
   "id": "d7a3cd9a",
   "metadata": {},
   "outputs": [],
   "source": [
    "## else wilcoxon"
   ]
  },
  {
   "cell_type": "code",
   "execution_count": 17,
   "id": "06a5e5cb",
   "metadata": {},
   "outputs": [
    {
     "name": "stdout",
     "output_type": "stream",
     "text": [
      "Test Result:\n",
      "p-value = 0.0000\n",
      "H0 can be rejected on a level of significance of 0.05.\n"
     ]
    }
   ],
   "source": [
    "# Apply the statistical test\n",
    "res = scipy.stats.wilcoxon(data_A, data_B, alternative = alternative)\n",
    "\n",
    "# Print results\n",
    "print_decision(res.pvalue, alpha)"
   ]
  },
  {
   "cell_type": "markdown",
   "id": "a9b22afa",
   "metadata": {},
   "source": [
    "## run competition instances with winner"
   ]
  },
  {
   "cell_type": "code",
   "execution_count": null,
   "id": "d75f8a34",
   "metadata": {},
   "outputs": [],
   "source": [
    "folder_path = \"data/inst_competition/\"\n",
    "problem_instances = [file.replace('.txt', '') for file in os.listdir(folder_path) if not file == \"test.txt\"]"
   ]
  },
  {
   "cell_type": "code",
   "execution_count": null,
   "id": "3da1c5ca",
   "metadata": {},
   "outputs": [],
   "source": [
    "test_results = []\n",
    "for p in problem_instances:\n",
    "    print(p)\n",
    "    path = folder_path+p+\".txt\"\n",
    "    node_impact_orig, node_degree_orig, plex_assignment, edges_n1, edges_n2, edge_weights, edge_assignment_orig, s, n, m = create_problem_instance(path)\n",
    "    \n",
    "    start = time.time()\n",
    "    test, avg_traj = GA(59, 19, False, 38, 2, 0.020278, node_impact_orig, node_degree_orig, edge_assignment_orig, edge_weights, s)\n",
    "    \n",
    "    test_results.append({\"Instance\": p,\n",
    "                         \"result\": test, \n",
    "                         \"baseline\": sum(node_impact_orig)/2,\n",
    "                         \"score\": test.score, \n",
    "                         \"runtime\": time.time()-start,\n",
    "                        \"trajectory\": avg_traj})\n",
    "    write_solution(test.edge_assignment, p, edge_weights, edges_n1, edges_n2, algorithm = \"GA\")"
   ]
  }
 ],
 "metadata": {
  "kernelspec": {
   "display_name": "Python 3 (ipykernel)",
   "language": "python",
   "name": "python3"
  },
  "language_info": {
   "codemirror_mode": {
    "name": "ipython",
    "version": 3
   },
   "file_extension": ".py",
   "mimetype": "text/x-python",
   "name": "python",
   "nbconvert_exporter": "python",
   "pygments_lexer": "ipython3",
   "version": "3.11.5"
  }
 },
 "nbformat": 4,
 "nbformat_minor": 5
}
